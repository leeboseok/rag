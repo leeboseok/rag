{
 "cells": [
  {
   "cell_type": "markdown",
   "id": "b0f96988",
   "metadata": {},
   "source": [
    "2. 랭체인\n",
    "렝체인 프레임워크를 활용하여 GPT-4o 모델로 응답을 생성하는 방법<br>\n",
    "랭체인: 대규모 언어 모델 기반 애플리케이션 개발에 모듈화된 접근 방식 제공, 다양한 구성요소 손쉽게 조합"
   ]
  },
  {
   "cell_type": "code",
   "execution_count": 1,
   "id": "a5b2a59b",
   "metadata": {},
   "outputs": [],
   "source": [
    "from dotenv import load_dotenv\n",
    "import os\n",
    "from langchain_openai import OpenAI"
   ]
  },
  {
   "cell_type": "code",
   "execution_count": 2,
   "id": "300e0506",
   "metadata": {},
   "outputs": [],
   "source": [
    "load_dotenv(\"/.env\")\n",
    "api_key = os.getenv(\"OPENAI_API_KEY\")\n",
    "llm = OpenAI(api_key=api_key)"
   ]
  },
  {
   "cell_type": "code",
   "execution_count": 3,
   "id": "9d0ad48d",
   "metadata": {},
   "outputs": [
    {
     "data": {
      "text/plain": [
       "'안녕하세요! 어떤 도움이 필요하신가요?'"
      ]
     },
     "execution_count": 3,
     "metadata": {},
     "output_type": "execute_result"
    }
   ],
   "source": [
    "# 라이브러리 설치\n",
    "# pip install langchain_core langchain_openai\n",
    "\n",
    "# 라이브러리 불러오기\n",
    "import openai\n",
    "from typing import List\n",
    "\n",
    "# 기본 오픈AI 클라이언트 사용\n",
    "client = openai.OpenAI()\n",
    "\n",
    "# \"안녕하세요!\" 메시지를 보내고 응답을 받아보자.\n",
    "response = client.chat.completions.create(\n",
    "    model=\"gpt-4o-mini\",\n",
    "    messages=[{\"role\": \"user\", \"content\": \"안녕하세요!\"}]\n",
    ")\n",
    "response.choices[0].message.content"
   ]
  },
  {
   "cell_type": "code",
   "execution_count": 4,
   "id": "1b1f2b41",
   "metadata": {},
   "outputs": [
    {
     "data": {
      "text/plain": [
       "'파이썬(Python)은 1991년 귀도 반 로썸(Guido van Rossum)이 처음 개발한 고수준 프로그래밍 언어입니다. 파이썬은 문법이 간결하고 읽기 쉬워 초보자에게 적합하며, 강력한 객체지향 프로그래밍 기능을 제공합니다. 다양한 라이브러리와 프레임워크를 지원하여 웹 개발, 데이터 분석, 인공지능, 과학 컴퓨팅 등 다양한 분야에서 널리 사용됩니다. 동적 타이핑과 풍부한 생태계 덕분에 개발자가 빠르게 프로토타입을 만들고 배포할 수 있는 장점을 가지고 있습니다.'"
      ]
     },
     "execution_count": 4,
     "metadata": {},
     "output_type": "execute_result"
    }
   ],
   "source": [
    "# 요청에 사용할 프롬프트 템플릿 정의\n",
    "prompt_template = \"주제 {topic}에 대해 짧은 설명을 해주세요.\"\n",
    "\n",
    "# 메시지를 보내고 모델의 응답을 받는 함수\n",
    "def call_chat_model(messages: List[dict]):\n",
    "    response = client.chat.completions.create(\n",
    "        model=\"gpt-4o-mini\",\n",
    "        messages=messages,\n",
    "    )\n",
    "    return response.choices[0].message.content\n",
    "\n",
    "# 주어진 주제에 따라 설명을 요청하는 함수\n",
    "def invoke_chain(topic: str):\n",
    "    prompt_value = prompt_template.format(topic=topic)\n",
    "    messages = [{\"role\": \"user\", \"content\": prompt_value}]\n",
    "    return call_chat_model(messages)\n",
    "\n",
    "# \"파이썬\" 주제로 설명 요청\n",
    "invoke_chain(\"파이썬\")"
   ]
  },
  {
   "cell_type": "markdown",
   "id": "21675416",
   "metadata": {},
   "source": []
  },
  {
   "cell_type": "code",
   "execution_count": 5,
   "id": "02a02a14",
   "metadata": {},
   "outputs": [],
   "source": [
    "# 라이브러리 불러오기\n",
    "from langchain_openai import ChatOpenAI\n",
    "from langchain_core.prompts import ChatPromptTemplate\n",
    "from langchain_core.output_parsers import StrOutputParser\n",
    "from langchain_core.runnables import RunnablePassthrough\n",
    "from dotenv import load_dotenv\n",
    "#미스트랄AI 모델을 사용할 경우 주석 해제\n",
    "# from langchain_mistralai.chat_models import ChatMistralAI"
   ]
  },
  {
   "cell_type": "code",
   "execution_count": 6,
   "id": "69d79182",
   "metadata": {},
   "outputs": [
    {
     "data": {
      "text/plain": [
       "'랭체인(LangChain)은 대화형 인공지능 애플리케이션을 개발하기 위한 프레임워크로, 주로 자연어 처리(NLP) 모델을 연결하여 복잡한 작업을 수행하는 데 사용됩니다. 랭체인은 다양한 언어 모델들을 조합하고 이들을 유기적으로 통합하여 원하는 응답을 생성할 수 있도록 설계되었습니다. 이를 통해 개발자는 더 나은 언어 이해 기능을 갖춘 애플리케이션을 만들 수 있으며, 대화의 문맥을 유지하고 다양한 데이터 소스와 상호작용을 할 수 있는 기능을 제공합니다. 랭체인은 특히 챗봇, 가상 비서와 같은 애플리케이션에 유용하게 사용됩니다.'"
      ]
     },
     "execution_count": 6,
     "metadata": {},
     "output_type": "execute_result"
    }
   ],
   "source": [
    "# 주어진 주제에 대해 짧은 설명을 요청하는 프롬프트 템플릿 정의\n",
    "prompt = ChatPromptTemplate.from_template(\n",
    "    \"주제 {topic}에 대해 짧은 설명을 해주세요.\"\n",
    ")\n",
    "\n",
    "# 출력 파서를 문자열로 설정\n",
    "output_parser = StrOutputParser()\n",
    "\n",
    "# 오픈AI의 gpt-4o 모델을 사용하여 채팅 모델 설정\n",
    "model = ChatOpenAI(model=\"gpt-4o\")\n",
    "\n",
    "# 미스트랄AI 모델을 사용할 경우 주석 해제\n",
    "# model = ChatMistralAI(api_key=MISTRAL_API_KEY)\n",
    "\n",
    "chain = (\n",
    "    {\"topic\": RunnablePassthrough()}\n",
    "    | prompt\n",
    "    | model\n",
    "    | output_parser\n",
    ")\n",
    "\n",
    "# 주제로 설명 요청\n",
    "chain.invoke(\"랭체인\")"
   ]
  },
  {
   "cell_type": "code",
   "execution_count": null,
   "id": "ebb2ca21",
   "metadata": {},
   "outputs": [],
   "source": [
    "from langchain_openai import OpenAI\n",
    "\n",
    "# LLM 모델 초기화(파라이멑 설정)\n",
    "llm = OpenAI(\n",
    "    temperature=0.7, # 온도 설정(0에서 1 사이의 값)\n",
    "    max_tokens=100, # 최대 토큰 수 설정\n",
    "    model_name=\"text_davinci-002\" # 사용할 모델 지정\n",
    ")"
   ]
  },
  {
   "cell_type": "code",
   "execution_count": null,
   "id": "e1ecd32c",
   "metadata": {},
   "outputs": [
    {
     "data": {
      "text/plain": [
       "'파이썬(Python)은 1991년 귀도 반 로썸(Guido van Rossum)에 의해 개발된 고급 프로그래밍 언어입니다. 파이썬은 간결하고 읽기 쉬운 문법을 가지고 있어 초보자부터 전문가까지 폭넓게 사용됩니다. 객체 지향, 함수형, 절차적 프로그래밍을 지원하며, 다양한 분야에서 활용될 수 있는 많은 라이브러리와 프레임워크를 제공합니다. 웹 개발, 데이터 분석, 인공지능, 머신러닝, 자동화 스크립트 등 여러 분야에서 인기를 끌고 있으며, 크로스 플랫폼으로 다양한 운영체제에서 사용할 수 있습니다. 파이썬의 커뮤니티도 활발하여 많은 자료와 도움을 쉽게 찾을 수 있습니다.'"
      ]
     },
     "execution_count": 4,
     "metadata": {},
     "output_type": "execute_result"
    }
   ],
   "source": [
    "# 라이브러리 설치\n",
    "# !pip install langchain_core langchain_openai\n",
    "\n",
    "# 라이브러리 불러오기\n",
    "from langchain_openai import ChatOpenAI\n",
    "from langchain_core.prompts import ChatPromptTemplate\n",
    "from langchain_core.output_parsers import StrOutputParser\n",
    "\n",
    "# 오픈 AI의 대규모 언어 모델 설정\n",
    "model = ChatOpenAI(model=\"gpt-4o-mini\")\n",
    "\n",
    "# 프롬프트 템플릿 정의: 주어진 주제에 대한 설명 요청\n",
    "prompt = ChatPromptTemplate.from_template(\"주제 {topic}에 대해 짧은 설명을 해주세요.\")\n",
    "# 출력 파서 정의: AI 메시지의 출력 내용을 추출\n",
    "parser = StrOutputParser()\n",
    "# 프롬프트, 모델, 출력 파서를 체인으로 연결\n",
    "chain = prompt | model | parser\n",
    "\n",
    "# 응답 호출\n",
    "chain.invoke({\"topic\":\"파이썬\"})"
   ]
  },
  {
   "cell_type": "code",
   "execution_count": 13,
   "id": "8ae6caaa",
   "metadata": {},
   "outputs": [
    {
     "data": {
      "text/plain": [
       "['파이썬(Python)은 1991년 귀도 반 로썸(Guido van Rossum)에 의해 개발된 고급 프로그래밍 언어로, 간결하고 가독성이 뛰어난 문법이 특징입니다. 다양한 분야에서 사용되며, 웹 개발, 데이터 분석, 인공 지능, 자동화 스크립트 등 다양한 용도로 활용됩니다. 풍부한 라이브러리와 프레임워크를 지원하여 개발 속도를 높일 수 있으며, 커뮤니티가 활성화되어 있어 많은 자료와 도움을 얻을 수 있습니다. 초보자부터 전문가까지 폭넓게 사용되는 언어입니다.',\n",
       " 'FastAPI는 Python으로 작성된 현대적인 웹 프레임워크로, 빠르고 효율적인 API를 구축하는 데 초점을 맞추고 있습니다. 이 프레임워크는 ASGI(Asynchronous Server Gateway Interface)를 기반으로 하여 비동기 처리를 지원하며, 데이터 검증과 문서화를 자동으로 처리하는 기능을 제공합니다. FastAPI는 Pydantic을 사용하여 요청 및 응답 데이터의 유효성을 검사하고, Swagger UI와 ReDoc을 통해 자동으로 문서를 생성합니다. 이로 인해 개발자는 빠르게 고성능 API를 개발할 수 있으며, 타입 힌트를 활용해 코드의 가독성과 유지보수성이 향상됩니다. FastAPI는 비즈니스 로직과 웹 서버의 성능을 모두 고려한 선택으로, RESTful 및 GraphQL API 구현에 적합합니다.']"
      ]
     },
     "execution_count": 13,
     "metadata": {},
     "output_type": "execute_result"
    }
   ],
   "source": [
    "# 주어진 주제 리스트에 대한 응답을 배치로 출력\n",
    "chain.batch([{\"topic\": \"파이썬\"}, {\"topic\": \"FastAPI\"}])"
   ]
  },
  {
   "cell_type": "code",
   "execution_count": 14,
   "id": "40c64748",
   "metadata": {},
   "outputs": [
    {
     "name": "stdout",
     "output_type": "stream",
     "text": [
      "파이썬(Python)은 높은 수준의 프로그래밍 언어로, 코드의 가독성이 뛰어나고 간결하여 배우기 쉽습니다. 1991년 귀도 반 로썸(Guido van Rossum)에 의해 처음 발표되었으며, 다양한 프로그래밍 패러다임을 지원합니다. 파이썬은 웹 개발, 데이터 분석, 인공지능, 과학 계산 등 다양한 분야에서 널리 사용되고 있습니다. 방대한 라이브러리와 프레임워크, 커뮤니티의 지원 덕분에 많은 개발자들이 선호하는 언어입니다. 또한, 플랫폼 독립적이어서 다양한 운영 체제에서 실행할 수 있는 장점이 있습니다."
     ]
    }
   ],
   "source": [
    "# 응답을 토큰 단위로 스트리밍하여 출력\n",
    "for token in chain.stream({\"topic\": \"파이썬\"}):\n",
    "# 스트리밍된 내용을 출력, 각 내용을 붙여서 출력하며 버퍼를 즉시 플러시하여 실시간으로 보여줌\n",
    "    print(token, end=\"\", flush=True)"
   ]
  },
  {
   "cell_type": "code",
   "execution_count": 17,
   "id": "8f84ee29",
   "metadata": {},
   "outputs": [
    {
     "data": {
      "text/plain": [
       "'Python is a high-level programming language that was first released in 1991 by Guido van Rossum. Due to its concise and highly readable syntax, Python is widely used by everyone from beginners to experts, and it is applied in various fields such as web development, data analysis, artificial intelligence, and automation scripts. It offers a rich set of libraries and frameworks and supports object-oriented programming (OOP) and functional programming features. Python is platform-independent and can run on various operating systems.'"
      ]
     },
     "execution_count": 17,
     "metadata": {},
     "output_type": "execute_result"
    }
   ],
   "source": [
    "# 라이브러리 불러오기\n",
    "from langchain_core.prompts import ChatPromptTemplate\n",
    "from langchain_core.output_parsers import StrOutputParser\n",
    "\n",
    "#\" 이 대답을 영어로 번역해 주세오\"라는 질문을 생성하는 프롬프트 템플릿 정의\n",
    "analysis_prompt = ChatPromptTemplate.from_template(\"이 대답을 영어로 번역해 주세요:{answer}\")\n",
    "\n",
    "# 이전에 정의된 체인(chain)과 새로운 작업을 연결하는 체인 구성\n",
    "composed_chain = {\"answer\": chain} | analysis_prompt | model | StrOutputParser()\n",
    "# \"파이썬\"이라는 주제로 응답을 생성하고 체인 실행\n",
    "composed_chain.invoke({\"topic\": \"파이썬\"})"
   ]
  },
  {
   "cell_type": "code",
   "execution_count": null,
   "id": "7e8495d9",
   "metadata": {},
   "outputs": [
    {
     "data": {
      "text/plain": [
       "'Python is a very popular high-level programming language that was first developed by Guido van Rossum in 1991. Python has a concise and easy-to-read syntax, making it suitable for both beginners and experts. It is used in various fields and supports a wide range of applications, including web development, data science, artificial intelligence, and automation scripting. Moreover, thanks to its rich libraries and community support, it helps developers work efficiently. It is a flexible language that supports object-oriented, functional, and procedural programming paradigms.'"
      ]
     },
     "execution_count": 21,
     "metadata": {},
     "output_type": "execute_result"
    }
   ],
   "source": [
    "# 람다 함수를 사용한 체인 구성\n",
    "composed_chain_with_lanbda = (\n",
    "    # 이전에 정의된 체인(chain)을 사용하여 입력된 데이터를 받아옵니다.\n",
    "    chain\n",
    "    # 입력된 데이터를 \"answer\" 키로 변환하는 람다 함수를 적용합니다.\n",
    "    |(lambda input: {\"answer\": input})\n",
    "    # \"answer\" 키를 가진 데이터를 영어로 번역하도록 프롬프트에 전달합니다.\n",
    "    |analysis_prompt\n",
    "    # 프롬프트에서 생성된 요청을 모델에 전달하여 결과를 생성합니다.\n",
    "    | model\n",
    "    # 모델에서 반환된 결과를 문자열로 파싱\n",
    "    | StrOutputParser()\n",
    ")\n",
    "# \"더블딥\"이라는 주제로 답변을 생성하고, 답변을 영어로 번역합니다.\n",
    "composed_chain_with_lanbda.invoke({\"topic\": \"파이썬\"})\n",
    "\n",
    "# 다만, 람다 함수를 사용 입력 변환 방식은 스트리밍 작업과 호환되지 않을 수 있음. 주의.\n"
   ]
  },
  {
   "cell_type": "markdown",
   "id": "ae8019db",
   "metadata": {},
   "source": []
  },
  {
   "cell_type": "markdown",
   "id": "481fe9de",
   "metadata": {},
   "source": []
  }
 ],
 "metadata": {
  "kernelspec": {
   "display_name": "Python 3",
   "language": "python",
   "name": "python3"
  },
  "language_info": {
   "codemirror_mode": {
    "name": "ipython",
    "version": 3
   },
   "file_extension": ".py",
   "mimetype": "text/x-python",
   "name": "python",
   "nbconvert_exporter": "python",
   "pygments_lexer": "ipython3",
   "version": "3.10.0"
  }
 },
 "nbformat": 4,
 "nbformat_minor": 5
}
