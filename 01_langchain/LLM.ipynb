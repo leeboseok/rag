{
 "cells": [
  {
   "cell_type": "markdown",
   "id": "b0f96988",
   "metadata": {},
   "source": [
    "2. 랭체인\n",
    "렝체인 프레임워크를 활용하여 GPT-4o 모델로 응답을 생성하는 방법<br>\n",
    "랭체인: 대규모 언어 모델 기반 애플리케이션 개발에 모듈화된 접근 방식 제공, 다양한 구성요소 손쉽게 조합"
   ]
  },
  {
   "cell_type": "code",
   "execution_count": 5,
   "id": "a5b2a59b",
   "metadata": {},
   "outputs": [],
   "source": [
    "from dotenv import load_dotenv\n",
    "import os\n",
    "from langchain_openai import OpenAI"
   ]
  },
  {
   "cell_type": "code",
   "execution_count": 6,
   "id": "300e0506",
   "metadata": {},
   "outputs": [],
   "source": [
    "load_dotenv(\"/.env\")\n",
    "api_key = os.getenv(\"OPENAI_API_KEY\")\n",
    "llm = OpenAI(api_key=api_key)"
   ]
  },
  {
   "cell_type": "code",
   "execution_count": 7,
   "id": "9d0ad48d",
   "metadata": {},
   "outputs": [
    {
     "data": {
      "text/plain": [
       "'안녕하세요! 어떻게 도와드릴까요?'"
      ]
     },
     "execution_count": 7,
     "metadata": {},
     "output_type": "execute_result"
    }
   ],
   "source": [
    "# 라이브러리 설치\n",
    "# pip install langchain_core langchain_openai\n",
    "\n",
    "# 라이브러리 불러오기\n",
    "import openai\n",
    "from typing import List\n",
    "\n",
    "# 기본 오픈AI 클라이언트 사용\n",
    "client = openai.OpenAI()\n",
    "\n",
    "# \"안녕하세요!\" 메시지를 보내고 응답을 받아보자.\n",
    "response = client.chat.completions.create(\n",
    "    model=\"gpt-4o-mini\",\n",
    "    messages=[{\"role\": \"user\", \"content\": \"안녕하세요!\"}]\n",
    ")\n",
    "response.choices[0].message.content"
   ]
  },
  {
   "cell_type": "code",
   "execution_count": 8,
   "id": "1b1f2b41",
   "metadata": {},
   "outputs": [
    {
     "data": {
      "text/plain": [
       "'파이썬(Python)은 고급 프로그래밍 언어로, 1991년 귀도 반 로썸(Guido van Rossum)에 의해 처음 발표되었습니다. 파이썬은 문법이 간단하고 명료하여 배우기 쉬우며, 코드의 가독성이 높아 개발자들 사이에서 인기가 많습니다. 다양한 활용 분야가 있으며, 웹 개발, 데이터 분석, 인공지능, 자동화 스크립트, 게임 개발 등에서 널리 사용됩니다. 또한, 방대한 라이브러리와 모듈이 지원되어 다양한 기능을 쉽게 구현할 수 있습니다. 파이썬은 오픈 소스로 제공되어 있어 무료로 사용할 수 있습니다.'"
      ]
     },
     "execution_count": 8,
     "metadata": {},
     "output_type": "execute_result"
    }
   ],
   "source": [
    "# 요청에 사용할 프롬프트 템플릿 정의\n",
    "prompt_template = \"주제 {topic}에 대해 짧은 설명을 해주세요.\"\n",
    "\n",
    "# 메시지를 보내고 모델의 응답을 받는 함수\n",
    "def call_chat_model(messages: List[dict]):\n",
    "    response = client.chat.completions.create(\n",
    "        model=\"gpt-4o-mini\",\n",
    "        messages=messages,\n",
    "    )\n",
    "    return response.choices[0].message.content\n",
    "\n",
    "# 주어진 주제에 따라 설명을 요청하는 함수\n",
    "def invoke_chain(topic: str):\n",
    "    prompt_value = prompt_template.format(topic=topic)\n",
    "    messages = [{\"role\": \"user\", \"content\": prompt_value}]\n",
    "    return call_chat_model(messages)\n",
    "\n",
    "# \"파이썬\" 주제로 설명 요청\n",
    "invoke_chain(\"파이썬\")"
   ]
  },
  {
   "cell_type": "markdown",
   "id": "21675416",
   "metadata": {},
   "source": []
  },
  {
   "cell_type": "code",
   "execution_count": 9,
   "id": "02a02a14",
   "metadata": {},
   "outputs": [],
   "source": [
    "# 라이브러리 불러오기\n",
    "from langchain_openai import ChatOpenAI\n",
    "from langchain_core.prompts import ChatPromptTemplate\n",
    "from langchain_core.output_parsers import StrOutputParser\n",
    "from langchain_core.runnables import RunnablePassthrough\n",
    "from dotenv import load_dotenv\n",
    "#미스트랄AI 모델을 사용할 경우 주석 해제\n",
    "# from langchain_mistralai.chat_models import ChatMistralAI"
   ]
  },
  {
   "cell_type": "code",
   "execution_count": 10,
   "id": "69d79182",
   "metadata": {},
   "outputs": [
    {
     "data": {
      "text/plain": [
       "'랭체인(LangChain)은 자연어 처리(NLP) 및 생성 AI 애플리케이션을 구축하기 위한 프레임워크입니다. 주로 대규모 언어 모델(LLM)을 효율적으로 사용할 수 있도록 설계되어, 텍스트 데이터의 생성, 변환, 요약 등을 포함한 다양한 작업을 수행할 수 있습니다. 랭체인은 다양한 데이터 소스 및 모델과 통합되어 복잡한 언어 응용 프로그램을 쉽게 개발할 수 있도록 도와줍니다. 이를 통해 개발자들은 챗봇, 자동화된 콘텐츠 생성 도구, 그리고 기타 AI 기반 언어 애플리케이션을 보다 효율적으로 구축할 수 있습니다.'"
      ]
     },
     "execution_count": 10,
     "metadata": {},
     "output_type": "execute_result"
    }
   ],
   "source": [
    "# 주어진 주제에 대해 짧은 설명을 요청하는 프롬프트 템플릿 정의\n",
    "prompt = ChatPromptTemplate.from_template(\n",
    "    \"주제 {topic}에 대해 짧은 설명을 해주세요.\"\n",
    ")\n",
    "\n",
    "# 출력 파서를 문자열로 설정\n",
    "output_parser = StrOutputParser()\n",
    "\n",
    "# 오픈AI의 gpt-4o 모델을 사용하여 채팅 모델 설정\n",
    "model = ChatOpenAI(model=\"gpt-4o\")\n",
    "\n",
    "# 미스트랄AI 모델을 사용할 경우 주석 해제\n",
    "# model = ChatMistralAI(api_key=MISTRAL_API_KEY)\n",
    "\n",
    "chain = (\n",
    "    {\"topic\": RunnablePassthrough()}\n",
    "    | prompt\n",
    "    | model\n",
    "    | output_parser\n",
    ")\n",
    "\n",
    "# 주제로 설명 요청\n",
    "chain.invoke(\"랭체인\")"
   ]
  },
  {
   "cell_type": "code",
   "execution_count": 11,
   "id": "ebb2ca21",
   "metadata": {},
   "outputs": [],
   "source": [
    "from langchain_openai import OpenAI\n",
    "\n",
    "# LLM 모델 초기화(파라이멑 설정)\n",
    "llm = OpenAI(\n",
    "    temperature=0.7, # 온도 설정(0에서 1 사이의 값)\n",
    "    max_tokens=100, # 최대 토큰 수 설정\n",
    "    model_name=\"text_davinci-002\" # 사용할 모델 지정\n",
    ")"
   ]
  },
  {
   "cell_type": "code",
   "execution_count": 12,
   "id": "e1ecd32c",
   "metadata": {},
   "outputs": [
    {
     "data": {
      "text/plain": [
       "'파이썬(Python)은 1991년 귀도 반 로섬(Guido van Rossum)에 의해 개발된 고급 프로그래밍 언어입니다. 이 언어는 간결하고 읽기 쉬운 문법을 가지고 있어 초보자부터 전문가까지 폭넓게 사용됩니다. 파이썬은 웹 개발, 데이터 분석, 인공지능, 머신러닝, 자동화 스크립트 등 다양한 분야에서 활용되며, 방대한 라이브러리와 프레임워크(예: Django, Flask, Pandas, NumPy 등) 덕분에 개발자들이 복잡한 작업을 손쉽게 수행할 수 있게 해줍니다. 또한, 크로스 플랫폼 지원이 뛰어나 다양한 운영 체제에서 사용할 수 있습니다. 파이썬은 커뮤니티가 활발하여 학습 자료와 지원이 풍부한 것이 특징입니다.'"
      ]
     },
     "execution_count": 12,
     "metadata": {},
     "output_type": "execute_result"
    }
   ],
   "source": [
    "# 라이브러리 설치\n",
    "# !pip install langchain_core langchain_openai\n",
    "\n",
    "# 라이브러리 불러오기\n",
    "from langchain_openai import ChatOpenAI\n",
    "from langchain_core.prompts import ChatPromptTemplate\n",
    "from langchain_core.output_parsers import StrOutputParser\n",
    "\n",
    "# 오픈 AI의 대규모 언어 모델 설정\n",
    "model = ChatOpenAI(model=\"gpt-4o-mini\")\n",
    "\n",
    "# 프롬프트 템플릿 정의: 주어진 주제에 대한 설명 요청\n",
    "prompt = ChatPromptTemplate.from_template(\"주제 {topic}에 대해 짧은 설명을 해주세요.\")\n",
    "# 출력 파서 정의: AI 메시지의 출력 내용을 추출\n",
    "parser = StrOutputParser()\n",
    "# 프롬프트, 모델, 출력 파서를 체인으로 연결\n",
    "chain = prompt | model | parser\n",
    "\n",
    "# 응답 호출\n",
    "chain.invoke({\"topic\":\"파이썬\"})"
   ]
  },
  {
   "cell_type": "code",
   "execution_count": 13,
   "id": "8ae6caaa",
   "metadata": {},
   "outputs": [
    {
     "data": {
      "text/plain": [
       "['파이썬(Python)은 간결하고 읽기 쉬운 문법을 가진 고급 프로그래밍 언어입니다. 1991년 귀도 반 로섬(Guido van Rossum)에 의해 처음 발표되었으며, 다양한 용도로 사용됩니다. 파이썬은 데이터 분석, 웹 개발, 인공지능, 머신러닝, 자동화 스크립트 등 폭넓은 분야에서 활용됩니다.\\n\\n파이썬의 특징 중 하나는 방대한 라이브러리 생태계로, NumPy, Pandas, TensorFlow, Flask, Django와 같은 다양한 라이브러리를 통해 복잡한 작업을 간편하게 수행할 수 있습니다. 또한, 파이썬은 플랫폼 독립적이며, 여러 운영 체제에서 실행될 수 있는 장점이 있습니다. 초보자에게도 적합한 언어로, 배우기 쉽고 사용하기 편리하여 많은 개발자들 사이에서 인기가 높습니다.',\n",
       " 'FastAPI는 Python으로 작성된 현대적인 웹 프레임워크로, 빠르고 효율적인 API를 개발하기 위해 설계되었습니다. 주요 특징으로는 다음과 같은 것들이 있습니다:\\n\\n1. **자동 문서화**: FastAPI는 OpenAPI 및 JSON Schema를 기반으로 하며, 개발자가 만든 API 문서를 자동으로 생성합니다. Swagger UI를 통해 사용자 친화적인 인터페이스에서 API를 테스트할 수 있습니다.\\n\\n2. **비동기 프로그래밍 지원**: ASGI를 기반으로 하여 비동기 프로그래밍을 지원하여 높은 성능을 제공합니다. 이를 통해 동시 요청을 효율적으로 처리할 수 있습니다.\\n\\n3. **타입 힌트 활용**: Python의 타입 힌트를 활용하여 코드의 가독성과 개발 효율성을 높이고, 입력 데이터의 유효성을 자동으로 검증합니다.\\n\\n4. **최소한의 오버헤드**: FastAPI는 경량화된 프레임워크로, 성능이 뛰어나며 필요한 기능만 포함되어 있습니다.\\n\\n이로 인해 FastAPI는 RESTful API와 마이크로서비스를 개발하는 데 매우 인기가 높습니다.']"
      ]
     },
     "execution_count": 13,
     "metadata": {},
     "output_type": "execute_result"
    }
   ],
   "source": [
    "# 주어진 주제 리스트에 대한 응답을 배치로 출력\n",
    "chain.batch([{\"topic\": \"파이썬\"}, {\"topic\": \"FastAPI\"}])"
   ]
  },
  {
   "cell_type": "code",
   "execution_count": 14,
   "id": "40c64748",
   "metadata": {},
   "outputs": [
    {
     "name": "stdout",
     "output_type": "stream",
     "text": [
      "파이썬(Python)은 여러 용도로 사용되는 고급 프로그래밍 언어입니다. 1991년에 귀도 반 로섬(Guido van Rossum)에 의해 처음 개발되었으며, 간결하고 가독성이 높은 문법이 특징입니다. 파이썬은 웹 개발, 데이터 분석, 인공지능, 과학 컴퓨팅, 자동화 스크립트 등 다양한 분야에서 널리 사용됩니다. 또한, 방대한 라이브러리와 커뮤니티 지원 덕분에 개발자들이 빠르고 효율적으로 작업을 수행할 수 있도록 돕습니다. 플랫폼 독립적이며, 초보자부터 전문가까지 폭넓게 활용할 수 있는 언어입니다."
     ]
    }
   ],
   "source": [
    "# 응답을 토큰 단위로 스트리밍하여 출력\n",
    "for token in chain.stream({\"topic\": \"파이썬\"}):\n",
    "# 스트리밍된 내용을 출력, 각 내용을 붙여서 출력하며 버퍼를 즉시 플러시하여 실시간으로 보여줌\n",
    "    print(token, end=\"\", flush=True)"
   ]
  },
  {
   "cell_type": "code",
   "execution_count": 15,
   "id": "8f84ee29",
   "metadata": {},
   "outputs": [
    {
     "data": {
      "text/plain": [
       "'Python is a high-level programming language with a concise and easy-to-read syntax. It was first released in 1991 by Guido van Rossum and is used for a variety of purposes. It is applied in a broad range of areas such as web development, data analysis, artificial intelligence, and automation scripting. Thanks to its large community and rich library ecosystem, Python makes it easy to perform various tasks. Additionally, Python supports object-oriented, procedural, and functional programming, allowing programmers to write code in different styles.'"
      ]
     },
     "execution_count": 15,
     "metadata": {},
     "output_type": "execute_result"
    }
   ],
   "source": [
    "# 라이브러리 불러오기\n",
    "from langchain_core.prompts import ChatPromptTemplate\n",
    "from langchain_core.output_parsers import StrOutputParser\n",
    "\n",
    "#\" 이 대답을 영어로 번역해 주세오\"라는 질문을 생성하는 프롬프트 템플릿 정의\n",
    "analysis_prompt = ChatPromptTemplate.from_template(\"이 대답을 영어로 번역해 주세요:{answer}\")\n",
    "\n",
    "# 이전에 정의된 체인(chain)과 새로운 작업을 연결하는 체인 구성\n",
    "composed_chain = {\"answer\": chain} | analysis_prompt | model | StrOutputParser()\n",
    "# \"파이썬\"이라는 주제로 응답을 생성하고 체인 실행\n",
    "composed_chain.invoke({\"topic\": \"파이썬\"})"
   ]
  },
  {
   "cell_type": "code",
   "execution_count": 16,
   "id": "7e8495d9",
   "metadata": {},
   "outputs": [
    {
     "data": {
      "text/plain": [
       "'Python is a high-level programming language developed by Guido van Rossum in 1991, emphasizing concise syntax and readability. It supports various programming paradigms, including object-oriented, functional, and procedural programming.\\n\\nPython is widely used in several fields such as data science, web development, automation, artificial intelligence, and machine learning. Thanks to its extensive libraries and community support, it can be easily applied to a variety of projects. It is a language used by a wide range of people, from beginners to experts, and is known for its ease of learning.'"
      ]
     },
     "execution_count": 16,
     "metadata": {},
     "output_type": "execute_result"
    }
   ],
   "source": [
    "# 람다 함수를 사용한 체인 구성\n",
    "composed_chain_with_lambda = (\n",
    "    # 이전에 정의된 체인(chain)을 사용하여 입력된 데이터를 받아옵니다.\n",
    "    chain\n",
    "    # 입력된 데이터를 \"answer\" 키로 변환하는 람다 함수를 적용합니다.\n",
    "    |(lambda input: {\"answer\": input})\n",
    "    # \"answer\" 키를 가진 데이터를 영어로 번역하도록 프롬프트에 전달합니다.\n",
    "    |analysis_prompt\n",
    "    # 프롬프트에서 생성된 요청을 모델에 전달하여 결과를 생성합니다.\n",
    "    | model\n",
    "    # 모델에서 반환된 결과를 문자열로 파싱\n",
    "    | StrOutputParser()\n",
    ")\n",
    "# \"더블딥\"이라는 주제로 답변을 생성하고, 답변을 영어로 번역합니다.\n",
    "composed_chain_with_lambda.invoke({\"topic\": \"파이썬\"})\n",
    "\n",
    "# 다만, 람다 함수를 사용 입력 변환 방식은 스트리밍 작업과 호환되지 않을 수 있음. 주의.\n"
   ]
  },
  {
   "cell_type": "markdown",
   "id": "ae8019db",
   "metadata": {},
   "source": []
  },
  {
   "cell_type": "markdown",
   "id": "710cd1d9",
   "metadata": {},
   "source": [
    "파이프 메서드"
   ]
  },
  {
   "cell_type": "code",
   "execution_count": 17,
   "id": "ceda240c",
   "metadata": {},
   "outputs": [
    {
     "data": {
      "text/plain": [
       "'Python is a high-level programming language developed by Guido van Rossum in 1991. It is widely used due to its concise and clear syntax, making it easy to read and learn. Python supports object-oriented, functional, and procedural programming styles, and it is utilized in various fields such as web development, data analysis, artificial intelligence, and scientific computing, thanks to its diverse libraries and frameworks. Additionally, it is platform-independent, allowing it to run on multiple operating systems, including Windows, macOS, and Linux.'"
      ]
     },
     "execution_count": 17,
     "metadata": {},
     "output_type": "execute_result"
    }
   ],
   "source": [
    "# (방법1) 여러 작업을 순차적으로 .pipe를 통해 연결하여 체인 구성하기\n",
    "composed_chain_with_pipe = (\n",
    "# 이전에 정의된 체인(chain)으로 입력된 데이터를 받아옴\n",
    "    chain\n",
    "# 입력된 데이터를 \"answer\" 키로 변환하는 람다 함수 적용\n",
    "    .pipe(lambda input: {\"answer\": input})\n",
    "    # analysis_prompt를 체인에 연결하여 설명을 영어로 번역하는 작업 추가\n",
    "    .pipe(analysis_prompt)\n",
    "    # 모델을 사용해 응답 생성\n",
    "    .pipe(model)\n",
    "    # 생성된 응답을 문자열로 파싱\n",
    "    .pipe(StrOutputParser())\n",
    ")\n",
    "# \"파이썬\"이라는 주제로 체인을 실행하여 답변 생성\n",
    "composed_chain_with_pipe.invoke({\"topic\": \"파이썬\"})"
   ]
  },
  {
   "cell_type": "markdown",
   "id": "481fe9de",
   "metadata": {},
   "source": []
  },
  {
   "cell_type": "code",
   "execution_count": 18,
   "id": "27e8fbd0",
   "metadata": {},
   "outputs": [
    {
     "data": {
      "text/plain": [
       "'Python is a high-level programming language developed by Guido van Rossum in 1991. Python is popular among both beginners and experts due to its simple syntax and readability. It can be used for a variety of purposes and is widely utilized in web development, data analysis, artificial intelligence, machine learning, and automation scripts.\\n\\nAdditionally, Python supports a vast array of libraries and frameworks that help developers easily handle complex tasks. It provides an interactive execution environment that makes running code straightforward, and it is platform-independent, allowing it to be used on various operating systems.'"
      ]
     },
     "execution_count": 18,
     "metadata": {},
     "output_type": "execute_result"
    }
   ],
   "source": [
    "# (방법 2) 좀 더 간단하게 연결하기\n",
    "composed_chain_with_pipe = chain.pipe(lambda input:{\"answer\":input}, analysis_prompt, model, StrOutputParser())\n",
    "\n",
    "# \"더블딥\"이라는 주제로 체인을 실행하여 답변 생성\n",
    "composed_chain_with_pipe.invoke({\"topic\": \"파이썬\"})"
   ]
  },
  {
   "cell_type": "code",
   "execution_count": 20,
   "id": "577e3ee2",
   "metadata": {},
   "outputs": [
    {
     "name": "stdout",
     "output_type": "stream",
     "text": [
      "한글 설명: 파이썬은 사용이 쉽고 간결한 문법을 가진 고수준 프로그래밍 언어로, 다양한 운영 체제에서 사용할 수 있습니다. 대부분의 작업을 보다 적은 코드로 처리할 수 있어 생산성이 뛰어나며, 데이터 분석, 인공지능, 웹 개발 등 다양한 분야에서 널리 사용되고 있습니다. 파이썬은 인터프리터 방식으로 실행되며, 동적 타이핑을 지원하고 가비지 컬렉션을 통해 메모리 관리를 자동으로 처리해줍니다.\n",
      "영어 설명: Python is a high-level programming language known for its simplicity and readability. It is widely used for web development, data analysis, artificial intelligence, and more.\n"
     ]
    }
   ],
   "source": [
    "from langchain_core.runnables import RunnableParallel\n",
    "\n",
    "# OpenAI 모델 초기화\n",
    "model = ChatOpenAI()\n",
    "# 한국어 설명 생성 프롬프트 체인\n",
    "kor_chain = (\n",
    "    ChatPromptTemplate.from_template(\"{topic}에 대해 짧은 설명을 해주세요.\")\n",
    "    | model\n",
    "    | StrOutputParser()\n",
    ")\n",
    "\n",
    "# 영어 설명 생성 프롬프트 체인\n",
    "eng_chain = (\n",
    "    ChatPromptTemplate.from_template(\"{topic}에 대해 짧게 영어로 설명을 해주세요.\")\n",
    "    | model\n",
    "    | StrOutputParser()\n",
    ")\n",
    "\n",
    "# 병렬 실행을 위한 RunnableParallel 설정\n",
    "parallel_chain = RunnableParallel(kor=kor_chain, eng=eng_chain)\n",
    "\n",
    "# 주제에 대한 한국어와 영어 설명 생성\n",
    "result = parallel_chain.invoke({\"topic\": \"파이썬\"})\n",
    "\n",
    "# 결과 출력\n",
    "print(\"한글 설명:\", result['kor'])\n",
    "print(\"영어 설명:\", result['eng'])"
   ]
  },
  {
   "cell_type": "code",
   "execution_count": null,
   "id": "0abc71c3",
   "metadata": {},
   "outputs": [],
   "source": []
  }
 ],
 "metadata": {
  "kernelspec": {
   "display_name": "Python 3",
   "language": "python",
   "name": "python3"
  },
  "language_info": {
   "codemirror_mode": {
    "name": "ipython",
    "version": 3
   },
   "file_extension": ".py",
   "mimetype": "text/x-python",
   "name": "python",
   "nbconvert_exporter": "python",
   "pygments_lexer": "ipython3",
   "version": "3.10.0"
  }
 },
 "nbformat": 4,
 "nbformat_minor": 5
}
