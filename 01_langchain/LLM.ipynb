{
 "cells": [
  {
   "cell_type": "markdown",
   "id": "b0f96988",
   "metadata": {},
   "source": [
    "2. 랭체인\n",
    "렝체인 프레임워크를 활용하여 GPT-4o 모델로 응답을 생성하는 방법<br>\n",
    "랭체인: 대규모 언어 모델 기반 애플리케이션 개발에 모듈화된 접근 방식 제공, 다양한 구성요소 손쉽게 조합"
   ]
  },
  {
   "cell_type": "code",
   "execution_count": 1,
   "id": "a5b2a59b",
   "metadata": {},
   "outputs": [],
   "source": [
    "from dotenv import load_dotenv\n",
    "import os\n",
    "from langchain_openai import OpenAI"
   ]
  },
  {
   "cell_type": "code",
   "execution_count": 2,
   "id": "300e0506",
   "metadata": {},
   "outputs": [],
   "source": [
    "load_dotenv(\"/.env\")\n",
    "api_key = os.getenv(\"OPENAI_API_KEY\")\n",
    "llm = OpenAI(api_key=api_key)"
   ]
  },
  {
   "cell_type": "code",
   "execution_count": 3,
   "id": "9d0ad48d",
   "metadata": {},
   "outputs": [
    {
     "data": {
      "text/plain": [
       "'안녕하세요! 어떤 도움이 필요하신가요?'"
      ]
     },
     "execution_count": 3,
     "metadata": {},
     "output_type": "execute_result"
    }
   ],
   "source": [
    "# 라이브러리 설치\n",
    "# pip install langchain_core langchain_openai\n",
    "\n",
    "# 라이브러리 불러오기\n",
    "import openai\n",
    "from typing import List\n",
    "\n",
    "# 기본 오픈AI 클라이언트 사용\n",
    "client = openai.OpenAI()\n",
    "\n",
    "# \"안녕하세요!\" 메시지를 보내고 응답을 받아보자.\n",
    "response = client.chat.completions.create(\n",
    "    model=\"gpt-4o-mini\",\n",
    "    messages=[{\"role\": \"user\", \"content\": \"안녕하세요!\"}]\n",
    ")\n",
    "response.choices[0].message.content"
   ]
  },
  {
   "cell_type": "code",
   "execution_count": 4,
   "id": "1b1f2b41",
   "metadata": {},
   "outputs": [
    {
     "data": {
      "text/plain": [
       "'파이썬(Python)은 1991년 귀도 반 로썸(Guido van Rossum)이 처음 개발한 고수준 프로그래밍 언어입니다. 파이썬은 문법이 간결하고 읽기 쉬워 초보자에게 적합하며, 강력한 객체지향 프로그래밍 기능을 제공합니다. 다양한 라이브러리와 프레임워크를 지원하여 웹 개발, 데이터 분석, 인공지능, 과학 컴퓨팅 등 다양한 분야에서 널리 사용됩니다. 동적 타이핑과 풍부한 생태계 덕분에 개발자가 빠르게 프로토타입을 만들고 배포할 수 있는 장점을 가지고 있습니다.'"
      ]
     },
     "execution_count": 4,
     "metadata": {},
     "output_type": "execute_result"
    }
   ],
   "source": [
    "# 요청에 사용할 프롬프트 템플릿 정의\n",
    "prompt_template = \"주제 {topic}에 대해 짧은 설명을 해주세요.\"\n",
    "\n",
    "# 메시지를 보내고 모델의 응답을 받는 함수\n",
    "def call_chat_model(messages: List[dict]):\n",
    "    response = client.chat.completions.create(\n",
    "        model=\"gpt-4o-mini\",\n",
    "        messages=messages,\n",
    "    )\n",
    "    return response.choices[0].message.content\n",
    "\n",
    "# 주어진 주제에 따라 설명을 요청하는 함수\n",
    "def invoke_chain(topic: str):\n",
    "    prompt_value = prompt_template.format(topic=topic)\n",
    "    messages = [{\"role\": \"user\", \"content\": prompt_value}]\n",
    "    return call_chat_model(messages)\n",
    "\n",
    "# \"파이썬\" 주제로 설명 요청\n",
    "invoke_chain(\"파이썬\")"
   ]
  },
  {
   "cell_type": "markdown",
   "id": "21675416",
   "metadata": {},
   "source": []
  },
  {
   "cell_type": "code",
   "execution_count": 5,
   "id": "02a02a14",
   "metadata": {},
   "outputs": [],
   "source": [
    "# 라이브러리 불러오기\n",
    "from langchain_openai import ChatOpenAI\n",
    "from langchain_core.prompts import ChatPromptTemplate\n",
    "from langchain_core.output_parsers import StrOutputParser\n",
    "from langchain_core.runnables import RunnablePassthrough\n",
    "from dotenv import load_dotenv\n",
    "#미스트랄AI 모델을 사용할 경우 주석 해제\n",
    "# from langchain_mistralai.chat_models import ChatMistralAI"
   ]
  },
  {
   "cell_type": "code",
   "execution_count": 6,
   "id": "69d79182",
   "metadata": {},
   "outputs": [
    {
     "data": {
      "text/plain": [
       "'랭체인(LangChain)은 대화형 인공지능 애플리케이션을 개발하기 위한 프레임워크로, 주로 자연어 처리(NLP) 모델을 연결하여 복잡한 작업을 수행하는 데 사용됩니다. 랭체인은 다양한 언어 모델들을 조합하고 이들을 유기적으로 통합하여 원하는 응답을 생성할 수 있도록 설계되었습니다. 이를 통해 개발자는 더 나은 언어 이해 기능을 갖춘 애플리케이션을 만들 수 있으며, 대화의 문맥을 유지하고 다양한 데이터 소스와 상호작용을 할 수 있는 기능을 제공합니다. 랭체인은 특히 챗봇, 가상 비서와 같은 애플리케이션에 유용하게 사용됩니다.'"
      ]
     },
     "execution_count": 6,
     "metadata": {},
     "output_type": "execute_result"
    }
   ],
   "source": [
    "# 주어진 주제에 대해 짧은 설명을 요청하는 프롬프트 템플릿 정의\n",
    "prompt = ChatPromptTemplate.from_template(\n",
    "    \"주제 {topic}에 대해 짧은 설명을 해주세요.\"\n",
    ")\n",
    "\n",
    "# 출력 파서를 문자열로 설정\n",
    "output_parser = StrOutputParser()\n",
    "\n",
    "# 오픈AI의 gpt-4o 모델을 사용하여 채팅 모델 설정\n",
    "model = ChatOpenAI(model=\"gpt-4o\")\n",
    "\n",
    "# 미스트랄AI 모델을 사용할 경우 주석 해제\n",
    "# model = ChatMistralAI(api_key=MISTRAL_API_KEY)\n",
    "\n",
    "chain = (\n",
    "    {\"topic\": RunnablePassthrough()}\n",
    "    | prompt\n",
    "    | model\n",
    "    | output_parser\n",
    ")\n",
    "\n",
    "# 주제로 설명 요청\n",
    "chain.invoke(\"랭체인\")"
   ]
  },
  {
   "cell_type": "code",
   "execution_count": null,
   "id": "ebb2ca21",
   "metadata": {},
   "outputs": [],
   "source": [
    "from langchain_openai import OpenAI\n",
    "\n",
    "# LLM 모델 초기화(파라이멑 설정)\n",
    "llm = OpenAI(\n",
    "    temperature=0.7, # 온도 설정(0에서 1 사이의 값)\n",
    "    max_tokens=100, # 최대 토큰 수 설정\n",
    "    model_name=\"text_davinci-002\" # 사용할 모델 지정\n",
    ")"
   ]
  }
 ],
 "metadata": {
  "kernelspec": {
   "display_name": "Python 3",
   "language": "python",
   "name": "python3"
  },
  "language_info": {
   "codemirror_mode": {
    "name": "ipython",
    "version": 3
   },
   "file_extension": ".py",
   "mimetype": "text/x-python",
   "name": "python",
   "nbconvert_exporter": "python",
   "pygments_lexer": "ipython3",
   "version": "3.10.0"
  }
 },
 "nbformat": 4,
 "nbformat_minor": 5
}
