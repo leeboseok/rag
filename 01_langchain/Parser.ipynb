{
 "cells": [
  {
   "cell_type": "markdown",
   "id": "7b6af1e8",
   "metadata": {},
   "source": [
    "출력 파서<br>\n",
    "모델이 생성한 텍스트를 구조화된 형식으로 변환하는 도구.<br>\n",
    "체계적인 제이터고 변환 가능<br>\n",
    "종류: JSON, XML, CSV, Pydantic등\n"
   ]
  },
  {
   "cell_type": "code",
   "execution_count": null,
   "id": "514f6377",
   "metadata": {
    "vscode": {
     "languageId": "plaintext"
    }
   },
   "outputs": [],
   "source": []
  },
  {
   "cell_type": "markdown",
   "id": "57c2bd91",
   "metadata": {},
   "source": []
  }
 ],
 "metadata": {
  "language_info": {
   "name": "python"
  }
 },
 "nbformat": 4,
 "nbformat_minor": 5
}
