{
 "cells": [
  {
   "cell_type": "markdown",
   "id": "e71bb9e5",
   "metadata": {},
   "source": [
    "프롬프트:<br>\n",
    "프롬프트 템플릿은 사용자의 입력과 매개변수를 언어 모델에 대한 지침으로 변환하는 역할<br>\n",
    "입력은 딕셔너리 형태로 받음.<br>\n",
    "딕셔너리의 각 키는 프롬프트 내의 변수를 나타냄."
   ]
  },
  {
   "cell_type": "markdown",
   "id": "dbab29fe",
   "metadata": {},
   "source": [
    "1. 문자열 프롬프트 템플릿"
   ]
  },
  {
   "cell_type": "code",
   "execution_count": null,
   "id": "abd4d7cc",
   "metadata": {},
   "outputs": [],
   "source": [
    "# 라이브러리 설치\n",
    "# %pip install langchain-core langchain-openai langchain-chroma"
   ]
  },
  {
   "cell_type": "code",
   "execution_count": 3,
   "id": "f3fae470",
   "metadata": {},
   "outputs": [
    {
     "data": {
      "text/plain": [
       "StringPromptValue(text='주제 투자에 대해 금융 관련 짧은 조언을 해주세요')"
      ]
     },
     "execution_count": 3,
     "metadata": {},
     "output_type": "execute_result"
    }
   ],
   "source": [
    "# 라이브러리 불러오기\n",
    "from langchain_core.prompts import PromptTemplate\n",
    "\n",
    "# 주어진 주제에 대한 조언을 요청하는 프롬프트 템플릿 정의\n",
    "prompt_template = PromptTemplate.from_template(\"주제 {topic}에 대해 금융 관련 짧은 조언을 해주세요\")\n",
    "\n",
    "# '투자' 주제로 프롬프트 탬플릿 호출\n",
    "prompt_template.invoke({\"topic\": \"투자\"})"
   ]
  },
  {
   "cell_type": "markdown",
   "id": "3633cc1e",
   "metadata": {},
   "source": [
    "2. 챗 프롬프트 템플릿"
   ]
  },
  {
   "cell_type": "code",
   "execution_count": 4,
   "id": "85459644",
   "metadata": {},
   "outputs": [
    {
     "data": {
      "text/plain": [
       "ChatPromptValue(messages=[SystemMessage(content='당신은 유능한 금융 조언가입니다.', additional_kwargs={}, response_metadata={}), HumanMessage(content='주제 주식에 대해 금융 관련 조언을 해주세요', additional_kwargs={}, response_metadata={})])"
      ]
     },
     "execution_count": 4,
     "metadata": {},
     "output_type": "execute_result"
    }
   ],
   "source": [
    "# 라이브러리 불러오기\n",
    "from langchain_core.prompts import ChatPromptTemplate\n",
    "\n",
    "# 챗 프롬프트 템플릿 정의: 사용자와 시스템 간의 메시지 포함\n",
    "prompt_template = ChatPromptTemplate.from_messages([\n",
    "    (\"system\", \"당신은 유능한 금융 조언가입니다.\"),\n",
    "    (\"user\", \"주제 {topic}에 대해 금융 관련 조언을 해주세요\")\n",
    "])\n",
    "\n",
    "# '주식' 주제로 챗 프롬프트 템플릿 호출\n",
    "prompt_template.invoke({\"topic\": \"주식\"})"
   ]
  },
  {
   "cell_type": "markdown",
   "id": "9edf761b",
   "metadata": {},
   "source": [
    "3. 메시지 자리 표시자"
   ]
  },
  {
   "cell_type": "code",
   "execution_count": 5,
   "id": "6541a368",
   "metadata": {},
   "outputs": [
    {
     "data": {
      "text/plain": [
       "ChatPromptValue(messages=[SystemMessage(content='당신은 유능한 금융 조언가입니다.', additional_kwargs={}, response_metadata={}), HumanMessage(content='안녕하세요!', additional_kwargs={}, response_metadata={})])"
      ]
     },
     "execution_count": 5,
     "metadata": {},
     "output_type": "execute_result"
    }
   ],
   "source": [
    "# 라이브러리 불러오기\n",
    "from langchain_core.prompts import ChatPromptTemplate, MessagesPlaceholder\n",
    "from langchain_core.messages import HumanMessage\n",
    "\n",
    "# (방법1) 메시지 자리 표시자를 포함한 챗 프롬프트 템플릿 정의\n",
    "prompt_template = ChatPromptTemplate.from_messages([\n",
    "    (\"system\", \"당신은 유능한 금융 조언가입니다.\"),\n",
    "    MessagesPlaceholder(\"msgs\")\n",
    "])\n",
    "\n",
    "# 메시지 리스트를 'msgs' 자리 표시자에 전달하여 호출\n",
    "prompt_template.invoke({\"msgs\": [HumanMessage(content=\"안녕하세요!\")]})"
   ]
  },
  {
   "cell_type": "code",
   "execution_count": 6,
   "id": "5157dfcf",
   "metadata": {},
   "outputs": [
    {
     "data": {
      "text/plain": [
       "ChatPromptValue(messages=[SystemMessage(content='당신은 유능한 금융 조언가입니다.', additional_kwargs={}, response_metadata={}), HumanMessage(content='안녕하세요!', additional_kwargs={}, response_metadata={})])"
      ]
     },
     "execution_count": 6,
     "metadata": {},
     "output_type": "execute_result"
    }
   ],
   "source": [
    "# (방법 2) MessagesPlaceholder 클래스를 사용하지 않고 비슷한 작업 수행\n",
    "prompt_template = ChatPromptTemplate.from_messages([\n",
    "    (\"system\", \"당신은 유능한 금융 조언가입니다.\"),\n",
    "    (\"placeholder\", \"{msgs}\") # <- 여기서 'msgs'가 자리 표시자로 사용됩니다.\n",
    "])\n",
    "\n",
    "# 메시지 리스트를 'msgs' 자리 표시자에 전달하여 호출\n",
    "prompt_template.invoke({\"msgs\": [HumanMessage(content=\"안녕하세요!\")]})"
   ]
  },
  {
   "cell_type": "code",
   "execution_count": 7,
   "id": "7524067a",
   "metadata": {},
   "outputs": [],
   "source": [
    "# 라이브러리 불러오기\n",
    "from langchain_core.prompts import PromptTemplate\n",
    "# 질문과 답변을 포맷하는 프롬프트 템플릿 정의\n",
    "example_prompt = PromptTemplate.from_template(\"질문: {question}\\n답변: {answer}\")"
   ]
  },
  {
   "cell_type": "code",
   "execution_count": 8,
   "id": "870ca212",
   "metadata": {},
   "outputs": [
    {
     "name": "stdout",
     "output_type": "stream",
     "text": [
      "질문: 주식 투자와 예금 중 어느 것이 더 수익률이 높은가?\n",
      "답변: \n",
      "후속 질문이 필요한가요: 네.\n",
      "후속 질문: 주식 투자의 평균 수익률은 얼마인가요?\n",
      "중간 답변: 주식 투자의 평균 수익률은 연 7% 입니다.\n",
      "후속 질문: 예금의 평균 이자율은 얼마인가요?\n",
      "중간 답변: 예금의 평균 이자율은 연 1%입니다.\n",
      "따라서 최종 답변은: 주식 투자\n",
      "\n",
      "질문: 부동산과 채권 중 어느 것이 더 안정적인 투자처인가?\n",
      "답변: \n",
      "후속질문이 필요한가요: 네.\n",
      "후속 질문: 부동산 투자의 휘험도는 어느 정도인가요?\n",
      "중간 답변: 부동산 투자의 위험도는 중간 수준입니다.\n",
      "후속 질문: 채권의 위험도는 어느 정도인가요?\n",
      "중간 답변: 채권의 위험도는 낮은 편입니다.\n",
      "따라서 최종 답변은: 채춴\n",
      "\n"
     ]
    }
   ],
   "source": [
    "# 퓨샷 예제 목록 생성\n",
    "examples = [\n",
    "    {\n",
    "        \"question\": \"주식 투자와 예금 중 어느 것이 더 수익률이 높은가?\",\n",
    "        \"answer\": \"\"\"\n",
    "후속 질문이 필요한가요: 네.\n",
    "후속 질문: 주식 투자의 평균 수익률은 얼마인가요?\n",
    "중간 답변: 주식 투자의 평균 수익률은 연 7% 입니다.\n",
    "후속 질문: 예금의 평균 이자율은 얼마인가요?\n",
    "중간 답변: 예금의 평균 이자율은 연 1%입니다.\n",
    "따라서 최종 답변은: 주식 투자\n",
    "\"\"\",\n",
    "    },\n",
    "    {\n",
    "        \"question\": \"부동산과 채권 중 어느 것이 더 안정적인 투자처인가?\",\n",
    "        \"answer\":\"\"\"\n",
    "후속질문이 필요한가요: 네.\n",
    "후속 질문: 부동산 투자의 휘험도는 어느 정도인가요?\n",
    "중간 답변: 부동산 투자의 위험도는 중간 수준입니다.\n",
    "후속 질문: 채권의 위험도는 어느 정도인가요?\n",
    "중간 답변: 채권의 위험도는 낮은 편입니다.\n",
    "따라서 최종 답변은: 채춴\n",
    "\"\"\"\n",
    "    }\n",
    "]\n",
    "\n",
    "print(example_prompt.invoke(examples[0]).to_string())\n",
    "print(example_prompt.invoke(examples[1]).to_string())"
   ]
  },
  {
   "cell_type": "markdown",
   "id": "478afc96",
   "metadata": {},
   "source": [
    "FewShotPromptTemplate을 이용한 프롬프트 생성"
   ]
  },
  {
   "cell_type": "code",
   "execution_count": 9,
   "id": "8ce9d9ff",
   "metadata": {},
   "outputs": [
    {
     "name": "stdout",
     "output_type": "stream",
     "text": [
      "질문: 주식 투자와 예금 중 어느 것이 더 수익률이 높은가?\n",
      "답변: \n",
      "후속 질문이 필요한가요: 네.\n",
      "후속 질문: 주식 투자의 평균 수익률은 얼마인가요?\n",
      "중간 답변: 주식 투자의 평균 수익률은 연 7% 입니다.\n",
      "후속 질문: 예금의 평균 이자율은 얼마인가요?\n",
      "중간 답변: 예금의 평균 이자율은 연 1%입니다.\n",
      "따라서 최종 답변은: 주식 투자\n",
      "\n",
      "\n",
      "질문: 부동산과 채권 중 어느 것이 더 안정적인 투자처인가?\n",
      "답변: \n",
      "후속질문이 필요한가요: 네.\n",
      "후속 질문: 부동산 투자의 휘험도는 어느 정도인가요?\n",
      "중간 답변: 부동산 투자의 위험도는 중간 수준입니다.\n",
      "후속 질문: 채권의 위험도는 어느 정도인가요?\n",
      "중간 답변: 채권의 위험도는 낮은 편입니다.\n",
      "따라서 최종 답변은: 채춴\n",
      "\n",
      "\n",
      "질문: 부동산 투자의 장점은 무엇인가?\n"
     ]
    }
   ],
   "source": [
    "# 라이브러리 불러오기\n",
    "from langchain_core.prompts import FewShotPromptTemplate\n",
    "\n",
    "# FewShotPromptTemplate 생성\n",
    "prompt = FewShotPromptTemplate(\n",
    "    examples=examples,\n",
    "    example_prompt=example_prompt,\n",
    "    suffix=\"질문: {input}\",\n",
    "    input_variables=[\"input\"]\n",
    ")\n",
    "\n",
    "# '부동산 투자' 주제로 프롬프트 호출 및 출력\n",
    "print(\n",
    "    prompt.invoke({\"input\": \"부동산 투자의 장점은 무엇인가?\"}).to_string()\n",
    ")"
   ]
  },
  {
   "cell_type": "markdown",
   "id": "3bd23aa2",
   "metadata": {},
   "source": [
    "예제 선택기 사용"
   ]
  },
  {
   "cell_type": "code",
   "execution_count": 15,
   "id": "93ab803c",
   "metadata": {},
   "outputs": [
    {
     "name": "stderr",
     "output_type": "stream",
     "text": [
      "Failed to send telemetry event ClientStartEvent: capture() takes 1 positional argument but 3 were given\n",
      "Failed to send telemetry event ClientCreateCollectionEvent: capture() takes 1 positional argument but 3 were given\n"
     ]
    },
    {
     "name": "stdout",
     "output_type": "stream",
     "text": [
      "입력 질문: 부동산 투자의 장점은 무엇인가?\n",
      "\n",
      "\n",
      "# 입력과 가장 유사한 예제:\n",
      "answer: \n",
      "후속질문이 필요한가요: 네.\n",
      "후속 질문: 부동산 투자의 휘험도는 어느 정도인가요?\n",
      "중간 답변: 부동산 투자의 위험도는 중간 수준입니다.\n",
      "후속 질문: 채권의 위험도는 어느 정도인가요?\n",
      "중간 답변: 채권의 위험도는 낮은 편입니다.\n",
      "따라서 최종 답변은: 채춴\n",
      "\n",
      "question: 부동산과 채권 중 어느 것이 더 안정적인 투자처인가?\n"
     ]
    }
   ],
   "source": [
    "# 라이브러리 불러오기\n",
    "from langchain_chroma import Chroma\n",
    "from langchain_core.example_selectors import SemanticSimilarityExampleSelector\n",
    "from langchain_openai import OpenAIEmbeddings\n",
    "from dotenv import load_dotenv\n",
    "import os\n",
    "\n",
    "load_dotenv()\n",
    "api_key = os.environ[\"OPENAI_API_KEY\"]\n",
    "\n",
    "# 예제 선택기 초기화\n",
    "example_selector = SemanticSimilarityExampleSelector.from_examples(\n",
    "    examples, # 사용할 예제 목록\n",
    "    OpenAIEmbeddings(api_key=api_key), # 임베딩 생성에 사용하는 클래스\n",
    "    Chroma, # 임베딩을 저장하고 유사도 검색을 수행하는 벡터 저장소 클래스\n",
    "    k=1, # 선택할 예제의 수\n",
    ")\n",
    "\n",
    "# 입력과 가장 유사한 예제 선택\n",
    "question = \"부동산 투자의 장점은 무엇인가?\"\n",
    "selected_examples = example_selector.select_examples({\"question\": question})\n",
    "\n",
    "# 선택된 예제 출력\n",
    "print(f\"입력 질문: {question}\")\n",
    "for example in selected_examples:\n",
    "    print(\"\\n\")\n",
    "    print(\"# 입력과 가장 유사한 예제:\")\n",
    "    for k, v in reversed(example.items()):\n",
    "        print(f\"{k}: {v}\")\n"
   ]
  },
  {
   "cell_type": "code",
   "execution_count": 16,
   "id": "416202cd",
   "metadata": {},
   "outputs": [],
   "source": [
    "# 라이브러리 불러오기\n",
    "from langchain_core.prompts import FewShotPromptTemplate, PromptTemplate\n",
    "from langchain_openai import ChatOpenAI\n",
    "\n",
    "# 예제 프롬프트 템플릿 생성\n",
    "example_prompt = PromptTemplate(\n",
    "    input_variables=[\"question\", \"answer\"],\n",
    "    template=\"질문: {question}\\n답변: {answer}\"\n",
    ")"
   ]
  },
  {
   "cell_type": "code",
   "execution_count": null,
   "id": "ca8f529c",
   "metadata": {},
   "outputs": [],
   "source": [
    "# 퓨샷 프롬프트 템플릿 설정\n",
    "prompt = FewShotPromptTemplate(\n",
    "    example_selector=example_selector,\n",
    "    example_prompt=example_prompt,\n",
    "    # prefix: 프롬프트의 앞부분에 붙는 텍스트로, AI에게 금융 관련 예제가 있음을 알림\n",
    "    prefix=\"다음은 금융 관련 질문과 답변의 예입니다.:\",\n",
    "    # suffix: 질문 후 AI가 답변을 생성해야 할 부분을 나타냄\n",
    "    suffix=\"질문: {input}\\n답변\",\n",
    "    # 실제로 사용자가 입력한 질문이 들어갈 자리\n",
    "    input_variables=[\"input\"]\n",
    ")"
   ]
  },
  {
   "cell_type": "code",
   "execution_count": 22,
   "id": "a7ab6bf7",
   "metadata": {},
   "outputs": [
    {
     "name": "stdout",
     "output_type": "stream",
     "text": [
      "부동산 투자의 장점은 다음과 같습니다:\n",
      "\n",
      "1. **안정적인 수익**: 부동산은 임대 수입을 통해 안정적인 현금 흐름을 제공할 수 있습니다. 특히 장기적으로 보유했을 때 자산 가치 상승에 따른 자본 이득을 기대할 수 있습니다.\n",
      "\n",
      "2. **자산 가치 상승**: 역사적으로 보면, 부동산은 시간이 지남에 따라 가치가 상승하는 경향이 있어 인플레이션에 대한 헤지 수단이 됩니다.\n",
      "\n",
      "3. **세제 혜택**: 많은 국가에서 부동산 투자에 대해 세금 감면이나 공제 혜택을 제공하여 투자자에게 유리한 조건을 제공합니다.\n",
      "\n",
      "4. **경기 변동에 대한 안정성**: 다른 투자에 비해 상대적으로 변동성이 낮아 경제의 급격한 변화에도 비교적 안정적인 투자로 평가받습니다.\n",
      "\n",
      "5. **다양한 투자 옵션**: 주거용, 상업용, 산업용 등 다양한 유형의 부동산에 투자할 수 있어 투자자의 목표와 전략에 맞는 선택이 가능합니다.\n",
      "\n",
      "이러한 장점들로 인해 부동산은 많은 투자자에게 매력적인 투자처로 여겨집니다."
     ]
    }
   ],
   "source": [
    "#  AI 모델 설정\n",
    "model = ChatOpenAI(model_name=\"gpt-4o\")\n",
    "\n",
    "# 체인 구성 및 실행\n",
    "chain = prompt | model # RunnableSequence를 사용하여 체인 연결\n",
    "# response = chain.invoke({\"input\": \"부동산 투자의 장점은 무엇인가?\"}) # invoke 메서드 사용\n",
    "\n",
    "# 응답을 토큰 단위로 스트리밍하여 출력\n",
    "for response in chain.stream({\"input\": \"부동산 투자의 장점은 무엇인가?\"}):\n",
    "    print(response.content, end=\"\", flush=True)"
   ]
  },
  {
   "cell_type": "code",
   "execution_count": null,
   "id": "91fd27d9",
   "metadata": {},
   "outputs": [],
   "source": []
  }
 ],
 "metadata": {
  "kernelspec": {
   "display_name": "Python 3",
   "language": "python",
   "name": "python3"
  },
  "language_info": {
   "codemirror_mode": {
    "name": "ipython",
    "version": 3
   },
   "file_extension": ".py",
   "mimetype": "text/x-python",
   "name": "python",
   "nbconvert_exporter": "python",
   "pygments_lexer": "ipython3",
   "version": "3.10.0"
  }
 },
 "nbformat": 4,
 "nbformat_minor": 5
}
