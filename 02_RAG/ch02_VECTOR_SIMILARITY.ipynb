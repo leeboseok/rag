{
 "cells": [
  {
   "cell_type": "code",
   "execution_count": 1,
   "id": "9bc8d641",
   "metadata": {},
   "outputs": [
    {
     "name": "stdout",
     "output_type": "stream",
     "text": [
      "벡터1과 벡터2의 유사도 : 0.7071067811865476\n",
      "벡터1과 벡터3의 유사도 : 0.7071067811865476\n",
      "벡터2와 벡터3의 유사도 : 1.0000000000000002\n"
     ]
    }
   ],
   "source": [
    "# <벡터들 간 코사인 유사도 계산>\n",
    "\n",
    "# 라이브러리 불러오기\n",
    "import numpy as np\n",
    "from numpy import dot\n",
    "from numpy.linalg import norm\n",
    "\n",
    "# 코사인 유사도를 계산하는 함수를 정의\n",
    "def cos_sim(A, B):\n",
    "  return dot(A, B)/(norm(A)*norm(B))\n",
    "\n",
    "# 벡터들 간의 코사인 유사도를 출력\n",
    "vec1 = np.array([0,1,1,1])\n",
    "vec2 = np.array([1,0,2,1])\n",
    "vec3 = np.array([2,0,4,2])\n",
    "print('벡터1과 벡터2의 유사도 :',cos_sim(vec1, vec2))\n",
    "print('벡터1과 벡터3의 유사도 :',cos_sim(vec1, vec3))\n",
    "print('벡터2와 벡터3의 유사도 :',cos_sim(vec2, vec3))"
   ]
  }
 ],
 "metadata": {
  "kernelspec": {
   "display_name": "Python 3",
   "language": "python",
   "name": "python3"
  },
  "language_info": {
   "codemirror_mode": {
    "name": "ipython",
    "version": 3
   },
   "file_extension": ".py",
   "mimetype": "text/x-python",
   "name": "python",
   "nbconvert_exporter": "python",
   "pygments_lexer": "ipython3",
   "version": "3.10.0"
  }
 },
 "nbformat": 4,
 "nbformat_minor": 5
}
