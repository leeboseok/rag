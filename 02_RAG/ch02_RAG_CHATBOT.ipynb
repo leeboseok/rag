{
 "cells": [
  {
   "cell_type": "code",
   "execution_count": 17,
   "id": "bc74b2ae",
   "metadata": {},
   "outputs": [
    {
     "name": "stdout",
     "output_type": "stream",
     "text": [
      "Requirement already satisfied: python-dotenv in c:\\users\\boseo\\appdata\\local\\programs\\python\\python310\\lib\\site-packages (1.1.1)\n",
      "Requirement already satisfied: langchain_openai in c:\\users\\boseo\\appdata\\local\\programs\\python\\python310\\lib\\site-packages (0.3.27)\n",
      "Requirement already satisfied: langchain-chroma in c:\\users\\boseo\\appdata\\local\\programs\\python\\python310\\lib\\site-packages (0.2.4)\n",
      "Requirement already satisfied: pypdf in c:\\users\\boseo\\appdata\\local\\programs\\python\\python310\\lib\\site-packages (5.7.0)\n",
      "Requirement already satisfied: langchain in c:\\users\\boseo\\appdata\\local\\programs\\python\\python310\\lib\\site-packages (0.3.26)\n",
      "Requirement already satisfied: langchain_community in c:\\users\\boseo\\appdata\\local\\programs\\python\\python310\\lib\\site-packages (0.3.26)\n",
      "Requirement already satisfied: openai<2.0.0,>=1.86.0 in c:\\users\\boseo\\appdata\\local\\programs\\python\\python310\\lib\\site-packages (from langchain_openai) (1.93.0)\n",
      "Requirement already satisfied: tiktoken<1,>=0.7 in c:\\users\\boseo\\appdata\\local\\programs\\python\\python310\\lib\\site-packages (from langchain_openai) (0.9.0)\n",
      "Requirement already satisfied: langchain-core<1.0.0,>=0.3.66 in c:\\users\\boseo\\appdata\\local\\programs\\python\\python310\\lib\\site-packages (from langchain_openai) (0.3.66)\n",
      "Requirement already satisfied: chromadb>=1.0.9 in c:\\users\\boseo\\appdata\\local\\programs\\python\\python310\\lib\\site-packages (from langchain-chroma) (1.0.13)\n",
      "Requirement already satisfied: numpy>=1.26.0 in c:\\users\\boseo\\appdata\\local\\programs\\python\\python310\\lib\\site-packages (from langchain-chroma) (2.2.4)\n",
      "Requirement already satisfied: typing_extensions>=4.0 in c:\\users\\boseo\\appdata\\roaming\\python\\python310\\site-packages (from pypdf) (4.12.2)\n",
      "Requirement already satisfied: pydantic<3.0.0,>=2.7.4 in c:\\users\\boseo\\appdata\\local\\programs\\python\\python310\\lib\\site-packages (from langchain) (2.10.6)\n",
      "Requirement already satisfied: requests<3,>=2 in c:\\users\\boseo\\appdata\\local\\programs\\python\\python310\\lib\\site-packages (from langchain) (2.32.3)\n",
      "Requirement already satisfied: SQLAlchemy<3,>=1.4 in c:\\users\\boseo\\appdata\\local\\programs\\python\\python310\\lib\\site-packages (from langchain) (2.0.40)\n",
      "Requirement already satisfied: langchain-text-splitters<1.0.0,>=0.3.8 in c:\\users\\boseo\\appdata\\local\\programs\\python\\python310\\lib\\site-packages (from langchain) (0.3.8)\n",
      "Requirement already satisfied: PyYAML>=5.3 in c:\\users\\boseo\\appdata\\local\\programs\\python\\python310\\lib\\site-packages (from langchain) (6.0.2)\n",
      "Requirement already satisfied: langsmith>=0.1.17 in c:\\users\\boseo\\appdata\\local\\programs\\python\\python310\\lib\\site-packages (from langchain) (0.4.4)\n",
      "Requirement already satisfied: async-timeout<5.0.0,>=4.0.0 in c:\\users\\boseo\\appdata\\local\\programs\\python\\python310\\lib\\site-packages (from langchain) (4.0.3)\n",
      "Requirement already satisfied: httpx-sse<1.0.0,>=0.4.0 in c:\\users\\boseo\\appdata\\local\\programs\\python\\python310\\lib\\site-packages (from langchain_community) (0.4.1)\n",
      "Requirement already satisfied: dataclasses-json<0.7,>=0.5.7 in c:\\users\\boseo\\appdata\\local\\programs\\python\\python310\\lib\\site-packages (from langchain_community) (0.6.7)\n",
      "Requirement already satisfied: pydantic-settings<3.0.0,>=2.4.0 in c:\\users\\boseo\\appdata\\local\\programs\\python\\python310\\lib\\site-packages (from langchain_community) (2.10.1)\n",
      "Requirement already satisfied: aiohttp<4.0.0,>=3.8.3 in c:\\users\\boseo\\appdata\\local\\programs\\python\\python310\\lib\\site-packages (from langchain_community) (3.11.14)\n",
      "Requirement already satisfied: tenacity!=8.4.0,<10,>=8.1.0 in c:\\users\\boseo\\appdata\\local\\programs\\python\\python310\\lib\\site-packages (from langchain_community) (9.1.2)\n",
      "Requirement already satisfied: aiohappyeyeballs>=2.3.0 in c:\\users\\boseo\\appdata\\local\\programs\\python\\python310\\lib\\site-packages (from aiohttp<4.0.0,>=3.8.3->langchain_community) (2.6.1)\n",
      "Requirement already satisfied: frozenlist>=1.1.1 in c:\\users\\boseo\\appdata\\local\\programs\\python\\python310\\lib\\site-packages (from aiohttp<4.0.0,>=3.8.3->langchain_community) (1.5.0)\n",
      "Requirement already satisfied: multidict<7.0,>=4.5 in c:\\users\\boseo\\appdata\\local\\programs\\python\\python310\\lib\\site-packages (from aiohttp<4.0.0,>=3.8.3->langchain_community) (6.2.0)\n",
      "Requirement already satisfied: yarl<2.0,>=1.17.0 in c:\\users\\boseo\\appdata\\local\\programs\\python\\python310\\lib\\site-packages (from aiohttp<4.0.0,>=3.8.3->langchain_community) (1.18.3)\n",
      "Requirement already satisfied: aiosignal>=1.1.2 in c:\\users\\boseo\\appdata\\local\\programs\\python\\python310\\lib\\site-packages (from aiohttp<4.0.0,>=3.8.3->langchain_community) (1.3.2)\n",
      "Requirement already satisfied: propcache>=0.2.0 in c:\\users\\boseo\\appdata\\local\\programs\\python\\python310\\lib\\site-packages (from aiohttp<4.0.0,>=3.8.3->langchain_community) (0.3.0)\n",
      "Requirement already satisfied: attrs>=17.3.0 in c:\\users\\boseo\\appdata\\local\\programs\\python\\python310\\lib\\site-packages (from aiohttp<4.0.0,>=3.8.3->langchain_community) (25.3.0)\n",
      "Requirement already satisfied: importlib-resources in c:\\users\\boseo\\appdata\\local\\programs\\python\\python310\\lib\\site-packages (from chromadb>=1.0.9->langchain-chroma) (6.5.2)\n",
      "Requirement already satisfied: mmh3>=4.0.1 in c:\\users\\boseo\\appdata\\local\\programs\\python\\python310\\lib\\site-packages (from chromadb>=1.0.9->langchain-chroma) (5.1.0)\n",
      "Requirement already satisfied: jsonschema>=4.19.0 in c:\\users\\boseo\\appdata\\local\\programs\\python\\python310\\lib\\site-packages (from chromadb>=1.0.9->langchain-chroma) (4.24.0)\n",
      "Requirement already satisfied: tqdm>=4.65.0 in c:\\users\\boseo\\appdata\\local\\programs\\python\\python310\\lib\\site-packages (from chromadb>=1.0.9->langchain-chroma) (4.67.1)\n",
      "Requirement already satisfied: kubernetes>=28.1.0 in c:\\users\\boseo\\appdata\\local\\programs\\python\\python310\\lib\\site-packages (from chromadb>=1.0.9->langchain-chroma) (33.1.0)\n",
      "Requirement already satisfied: onnxruntime>=1.14.1 in c:\\users\\boseo\\appdata\\local\\programs\\python\\python310\\lib\\site-packages (from chromadb>=1.0.9->langchain-chroma) (1.22.0)\n",
      "Requirement already satisfied: httpx>=0.27.0 in c:\\users\\boseo\\appdata\\local\\programs\\python\\python310\\lib\\site-packages (from chromadb>=1.0.9->langchain-chroma) (0.28.1)\n",
      "Requirement already satisfied: tokenizers>=0.13.2 in c:\\users\\boseo\\appdata\\local\\programs\\python\\python310\\lib\\site-packages (from chromadb>=1.0.9->langchain-chroma) (0.21.1)\n",
      "Requirement already satisfied: bcrypt>=4.0.1 in c:\\users\\boseo\\appdata\\local\\programs\\python\\python310\\lib\\site-packages (from chromadb>=1.0.9->langchain-chroma) (4.3.0)\n",
      "Requirement already satisfied: pybase64>=1.4.1 in c:\\users\\boseo\\appdata\\local\\programs\\python\\python310\\lib\\site-packages (from chromadb>=1.0.9->langchain-chroma) (1.4.1)\n",
      "Requirement already satisfied: typer>=0.9.0 in c:\\users\\boseo\\appdata\\local\\programs\\python\\python310\\lib\\site-packages (from chromadb>=1.0.9->langchain-chroma) (0.16.0)\n",
      "Requirement already satisfied: rich>=10.11.0 in c:\\users\\boseo\\appdata\\local\\programs\\python\\python310\\lib\\site-packages (from chromadb>=1.0.9->langchain-chroma) (13.9.4)\n",
      "Requirement already satisfied: opentelemetry-api>=1.2.0 in c:\\users\\boseo\\appdata\\local\\programs\\python\\python310\\lib\\site-packages (from chromadb>=1.0.9->langchain-chroma) (1.34.1)\n",
      "Requirement already satisfied: overrides>=7.3.1 in c:\\users\\boseo\\appdata\\local\\programs\\python\\python310\\lib\\site-packages (from chromadb>=1.0.9->langchain-chroma) (7.7.0)\n",
      "Requirement already satisfied: grpcio>=1.58.0 in c:\\users\\boseo\\appdata\\local\\programs\\python\\python310\\lib\\site-packages (from chromadb>=1.0.9->langchain-chroma) (1.73.1)\n",
      "Requirement already satisfied: opentelemetry-exporter-otlp-proto-grpc>=1.2.0 in c:\\users\\boseo\\appdata\\local\\programs\\python\\python310\\lib\\site-packages (from chromadb>=1.0.9->langchain-chroma) (1.34.1)\n",
      "Requirement already satisfied: orjson>=3.9.12 in c:\\users\\boseo\\appdata\\local\\programs\\python\\python310\\lib\\site-packages (from chromadb>=1.0.9->langchain-chroma) (3.10.18)\n",
      "Requirement already satisfied: uvicorn[standard]>=0.18.3 in c:\\users\\boseo\\appdata\\local\\programs\\python\\python310\\lib\\site-packages (from chromadb>=1.0.9->langchain-chroma) (0.34.0)\n",
      "Requirement already satisfied: opentelemetry-sdk>=1.2.0 in c:\\users\\boseo\\appdata\\local\\programs\\python\\python310\\lib\\site-packages (from chromadb>=1.0.9->langchain-chroma) (1.34.1)\n",
      "Requirement already satisfied: build>=1.0.3 in c:\\users\\boseo\\appdata\\local\\programs\\python\\python310\\lib\\site-packages (from chromadb>=1.0.9->langchain-chroma) (1.2.2.post1)\n",
      "Requirement already satisfied: posthog>=2.4.0 in c:\\users\\boseo\\appdata\\local\\programs\\python\\python310\\lib\\site-packages (from chromadb>=1.0.9->langchain-chroma) (6.0.0)\n",
      "Requirement already satisfied: pypika>=0.48.9 in c:\\users\\boseo\\appdata\\local\\programs\\python\\python310\\lib\\site-packages (from chromadb>=1.0.9->langchain-chroma) (0.48.9)\n",
      "Requirement already satisfied: colorama in c:\\users\\boseo\\appdata\\roaming\\python\\python310\\site-packages (from build>=1.0.3->chromadb>=1.0.9->langchain-chroma) (0.4.6)\n",
      "Requirement already satisfied: packaging>=19.1 in c:\\users\\boseo\\appdata\\roaming\\python\\python310\\site-packages (from build>=1.0.3->chromadb>=1.0.9->langchain-chroma) (24.2)\n",
      "Requirement already satisfied: tomli>=1.1.0 in c:\\users\\boseo\\appdata\\local\\programs\\python\\python310\\lib\\site-packages (from build>=1.0.3->chromadb>=1.0.9->langchain-chroma) (2.2.1)\n",
      "Requirement already satisfied: importlib-metadata>=4.6 in c:\\users\\boseo\\appdata\\local\\programs\\python\\python310\\lib\\site-packages (from build>=1.0.3->chromadb>=1.0.9->langchain-chroma) (8.7.0)\n",
      "Requirement already satisfied: pyproject_hooks in c:\\users\\boseo\\appdata\\local\\programs\\python\\python310\\lib\\site-packages (from build>=1.0.3->chromadb>=1.0.9->langchain-chroma) (1.2.0)\n",
      "Requirement already satisfied: typing-inspect<1,>=0.4.0 in c:\\users\\boseo\\appdata\\local\\programs\\python\\python310\\lib\\site-packages (from dataclasses-json<0.7,>=0.5.7->langchain_community) (0.9.0)\n",
      "Requirement already satisfied: marshmallow<4.0.0,>=3.18.0 in c:\\users\\boseo\\appdata\\local\\programs\\python\\python310\\lib\\site-packages (from dataclasses-json<0.7,>=0.5.7->langchain_community) (3.26.1)\n",
      "Requirement already satisfied: idna in c:\\users\\boseo\\appdata\\local\\programs\\python\\python310\\lib\\site-packages (from httpx>=0.27.0->chromadb>=1.0.9->langchain-chroma) (3.10)\n",
      "Requirement already satisfied: anyio in c:\\users\\boseo\\appdata\\local\\programs\\python\\python310\\lib\\site-packages (from httpx>=0.27.0->chromadb>=1.0.9->langchain-chroma) (4.9.0)\n",
      "Requirement already satisfied: certifi in c:\\users\\boseo\\appdata\\local\\programs\\python\\python310\\lib\\site-packages (from httpx>=0.27.0->chromadb>=1.0.9->langchain-chroma) (2025.1.31)\n",
      "Requirement already satisfied: httpcore==1.* in c:\\users\\boseo\\appdata\\local\\programs\\python\\python310\\lib\\site-packages (from httpx>=0.27.0->chromadb>=1.0.9->langchain-chroma) (1.0.9)\n",
      "Requirement already satisfied: h11>=0.16 in c:\\users\\boseo\\appdata\\local\\programs\\python\\python310\\lib\\site-packages (from httpcore==1.*->httpx>=0.27.0->chromadb>=1.0.9->langchain-chroma) (0.16.0)\n",
      "Requirement already satisfied: zipp>=3.20 in c:\\users\\boseo\\appdata\\local\\programs\\python\\python310\\lib\\site-packages (from importlib-metadata>=4.6->build>=1.0.3->chromadb>=1.0.9->langchain-chroma) (3.23.0)\n",
      "Requirement already satisfied: referencing>=0.28.4 in c:\\users\\boseo\\appdata\\local\\programs\\python\\python310\\lib\\site-packages (from jsonschema>=4.19.0->chromadb>=1.0.9->langchain-chroma) (0.36.2)\n",
      "Requirement already satisfied: rpds-py>=0.7.1 in c:\\users\\boseo\\appdata\\local\\programs\\python\\python310\\lib\\site-packages (from jsonschema>=4.19.0->chromadb>=1.0.9->langchain-chroma) (0.25.1)\n",
      "Requirement already satisfied: jsonschema-specifications>=2023.03.6 in c:\\users\\boseo\\appdata\\local\\programs\\python\\python310\\lib\\site-packages (from jsonschema>=4.19.0->chromadb>=1.0.9->langchain-chroma) (2025.4.1)\n",
      "Requirement already satisfied: urllib3>=1.24.2 in c:\\users\\boseo\\appdata\\local\\programs\\python\\python310\\lib\\site-packages (from kubernetes>=28.1.0->chromadb>=1.0.9->langchain-chroma) (2.3.0)\n",
      "Requirement already satisfied: websocket-client!=0.40.0,!=0.41.*,!=0.42.*,>=0.32.0 in c:\\users\\boseo\\appdata\\local\\programs\\python\\python310\\lib\\site-packages (from kubernetes>=28.1.0->chromadb>=1.0.9->langchain-chroma) (1.8.0)\n",
      "Requirement already satisfied: google-auth>=1.0.1 in c:\\users\\boseo\\appdata\\local\\programs\\python\\python310\\lib\\site-packages (from kubernetes>=28.1.0->chromadb>=1.0.9->langchain-chroma) (2.40.3)\n",
      "Requirement already satisfied: requests-oauthlib in c:\\users\\boseo\\appdata\\local\\programs\\python\\python310\\lib\\site-packages (from kubernetes>=28.1.0->chromadb>=1.0.9->langchain-chroma) (2.0.0)\n",
      "Requirement already satisfied: durationpy>=0.7 in c:\\users\\boseo\\appdata\\local\\programs\\python\\python310\\lib\\site-packages (from kubernetes>=28.1.0->chromadb>=1.0.9->langchain-chroma) (0.10)\n",
      "Requirement already satisfied: six>=1.9.0 in c:\\users\\boseo\\appdata\\roaming\\python\\python310\\site-packages (from kubernetes>=28.1.0->chromadb>=1.0.9->langchain-chroma) (1.17.0)\n",
      "Requirement already satisfied: oauthlib>=3.2.2 in c:\\users\\boseo\\appdata\\local\\programs\\python\\python310\\lib\\site-packages (from kubernetes>=28.1.0->chromadb>=1.0.9->langchain-chroma) (3.3.1)\n",
      "Requirement already satisfied: python-dateutil>=2.5.3 in c:\\users\\boseo\\appdata\\roaming\\python\\python310\\site-packages (from kubernetes>=28.1.0->chromadb>=1.0.9->langchain-chroma) (2.9.0.post0)\n",
      "Requirement already satisfied: pyasn1-modules>=0.2.1 in c:\\users\\boseo\\appdata\\local\\programs\\python\\python310\\lib\\site-packages (from google-auth>=1.0.1->kubernetes>=28.1.0->chromadb>=1.0.9->langchain-chroma) (0.4.2)\n",
      "Requirement already satisfied: cachetools<6.0,>=2.0.0 in c:\\users\\boseo\\appdata\\local\\programs\\python\\python310\\lib\\site-packages (from google-auth>=1.0.1->kubernetes>=28.1.0->chromadb>=1.0.9->langchain-chroma) (5.5.2)\n",
      "Requirement already satisfied: rsa<5,>=3.1.4 in c:\\users\\boseo\\appdata\\local\\programs\\python\\python310\\lib\\site-packages (from google-auth>=1.0.1->kubernetes>=28.1.0->chromadb>=1.0.9->langchain-chroma) (4.9.1)\n",
      "Requirement already satisfied: jsonpatch<2.0,>=1.33 in c:\\users\\boseo\\appdata\\local\\programs\\python\\python310\\lib\\site-packages (from langchain-core<1.0.0,>=0.3.66->langchain_openai) (1.33)\n",
      "Requirement already satisfied: jsonpointer>=1.9 in c:\\users\\boseo\\appdata\\local\\programs\\python\\python310\\lib\\site-packages (from jsonpatch<2.0,>=1.33->langchain-core<1.0.0,>=0.3.66->langchain_openai) (3.0.0)\n",
      "Requirement already satisfied: requests-toolbelt<2.0.0,>=1.0.0 in c:\\users\\boseo\\appdata\\local\\programs\\python\\python310\\lib\\site-packages (from langsmith>=0.1.17->langchain) (1.0.0)\n",
      "Requirement already satisfied: zstandard<0.24.0,>=0.23.0 in c:\\users\\boseo\\appdata\\local\\programs\\python\\python310\\lib\\site-packages (from langsmith>=0.1.17->langchain) (0.23.0)\n",
      "Requirement already satisfied: coloredlogs in c:\\users\\boseo\\appdata\\local\\programs\\python\\python310\\lib\\site-packages (from onnxruntime>=1.14.1->chromadb>=1.0.9->langchain-chroma) (15.0.1)\n",
      "Requirement already satisfied: flatbuffers in c:\\users\\boseo\\appdata\\local\\programs\\python\\python310\\lib\\site-packages (from onnxruntime>=1.14.1->chromadb>=1.0.9->langchain-chroma) (25.2.10)\n",
      "Requirement already satisfied: sympy in c:\\users\\boseo\\appdata\\local\\programs\\python\\python310\\lib\\site-packages (from onnxruntime>=1.14.1->chromadb>=1.0.9->langchain-chroma) (1.13.1)\n",
      "Requirement already satisfied: protobuf in c:\\users\\boseo\\appdata\\local\\programs\\python\\python310\\lib\\site-packages (from onnxruntime>=1.14.1->chromadb>=1.0.9->langchain-chroma) (5.29.5)\n",
      "Requirement already satisfied: sniffio in c:\\users\\boseo\\appdata\\local\\programs\\python\\python310\\lib\\site-packages (from openai<2.0.0,>=1.86.0->langchain_openai) (1.3.1)\n",
      "Requirement already satisfied: jiter<1,>=0.4.0 in c:\\users\\boseo\\appdata\\local\\programs\\python\\python310\\lib\\site-packages (from openai<2.0.0,>=1.86.0->langchain_openai) (0.10.0)\n",
      "Requirement already satisfied: distro<2,>=1.7.0 in c:\\users\\boseo\\appdata\\local\\programs\\python\\python310\\lib\\site-packages (from openai<2.0.0,>=1.86.0->langchain_openai) (1.9.0)\n",
      "Requirement already satisfied: exceptiongroup>=1.0.2 in c:\\users\\boseo\\appdata\\roaming\\python\\python310\\site-packages (from anyio->httpx>=0.27.0->chromadb>=1.0.9->langchain-chroma) (1.2.2)\n",
      "Requirement already satisfied: opentelemetry-exporter-otlp-proto-common==1.34.1 in c:\\users\\boseo\\appdata\\local\\programs\\python\\python310\\lib\\site-packages (from opentelemetry-exporter-otlp-proto-grpc>=1.2.0->chromadb>=1.0.9->langchain-chroma) (1.34.1)\n",
      "Requirement already satisfied: opentelemetry-proto==1.34.1 in c:\\users\\boseo\\appdata\\local\\programs\\python\\python310\\lib\\site-packages (from opentelemetry-exporter-otlp-proto-grpc>=1.2.0->chromadb>=1.0.9->langchain-chroma) (1.34.1)\n",
      "Requirement already satisfied: googleapis-common-protos~=1.52 in c:\\users\\boseo\\appdata\\local\\programs\\python\\python310\\lib\\site-packages (from opentelemetry-exporter-otlp-proto-grpc>=1.2.0->chromadb>=1.0.9->langchain-chroma) (1.70.0)\n",
      "Requirement already satisfied: opentelemetry-semantic-conventions==0.55b1 in c:\\users\\boseo\\appdata\\local\\programs\\python\\python310\\lib\\site-packages (from opentelemetry-sdk>=1.2.0->chromadb>=1.0.9->langchain-chroma) (0.55b1)\n",
      "Requirement already satisfied: backoff>=1.10.0 in c:\\users\\boseo\\appdata\\local\\programs\\python\\python310\\lib\\site-packages (from posthog>=2.4.0->chromadb>=1.0.9->langchain-chroma) (2.2.1)\n",
      "Requirement already satisfied: pyasn1<0.7.0,>=0.6.1 in c:\\users\\boseo\\appdata\\local\\programs\\python\\python310\\lib\\site-packages (from pyasn1-modules>=0.2.1->google-auth>=1.0.1->kubernetes>=28.1.0->chromadb>=1.0.9->langchain-chroma) (0.6.1)\n",
      "Requirement already satisfied: annotated-types>=0.6.0 in c:\\users\\boseo\\appdata\\local\\programs\\python\\python310\\lib\\site-packages (from pydantic<3.0.0,>=2.7.4->langchain) (0.7.0)\n",
      "Requirement already satisfied: pydantic-core==2.27.2 in c:\\users\\boseo\\appdata\\local\\programs\\python\\python310\\lib\\site-packages (from pydantic<3.0.0,>=2.7.4->langchain) (2.27.2)\n",
      "Requirement already satisfied: typing-inspection>=0.4.0 in c:\\users\\boseo\\appdata\\local\\programs\\python\\python310\\lib\\site-packages (from pydantic-settings<3.0.0,>=2.4.0->langchain_community) (0.4.1)\n",
      "Requirement already satisfied: charset-normalizer<4,>=2 in c:\\users\\boseo\\appdata\\local\\programs\\python\\python310\\lib\\site-packages (from requests<3,>=2->langchain) (3.4.1)\n",
      "Requirement already satisfied: markdown-it-py>=2.2.0 in c:\\users\\boseo\\appdata\\local\\programs\\python\\python310\\lib\\site-packages (from rich>=10.11.0->chromadb>=1.0.9->langchain-chroma) (3.0.0)\n",
      "Requirement already satisfied: pygments<3.0.0,>=2.13.0 in c:\\users\\boseo\\appdata\\roaming\\python\\python310\\site-packages (from rich>=10.11.0->chromadb>=1.0.9->langchain-chroma) (2.19.1)\n",
      "Requirement already satisfied: mdurl~=0.1 in c:\\users\\boseo\\appdata\\local\\programs\\python\\python310\\lib\\site-packages (from markdown-it-py>=2.2.0->rich>=10.11.0->chromadb>=1.0.9->langchain-chroma) (0.1.2)\n",
      "Requirement already satisfied: greenlet>=1 in c:\\users\\boseo\\appdata\\local\\programs\\python\\python310\\lib\\site-packages (from SQLAlchemy<3,>=1.4->langchain) (3.1.1)\n",
      "Requirement already satisfied: regex>=2022.1.18 in c:\\users\\boseo\\appdata\\local\\programs\\python\\python310\\lib\\site-packages (from tiktoken<1,>=0.7->langchain_openai) (2024.11.6)\n",
      "Requirement already satisfied: huggingface-hub<1.0,>=0.16.4 in c:\\users\\boseo\\appdata\\local\\programs\\python\\python310\\lib\\site-packages (from tokenizers>=0.13.2->chromadb>=1.0.9->langchain-chroma) (0.29.3)\n",
      "Requirement already satisfied: filelock in c:\\users\\boseo\\appdata\\local\\programs\\python\\python310\\lib\\site-packages (from huggingface-hub<1.0,>=0.16.4->tokenizers>=0.13.2->chromadb>=1.0.9->langchain-chroma) (3.18.0)\n",
      "Requirement already satisfied: fsspec>=2023.5.0 in c:\\users\\boseo\\appdata\\local\\programs\\python\\python310\\lib\\site-packages (from huggingface-hub<1.0,>=0.16.4->tokenizers>=0.13.2->chromadb>=1.0.9->langchain-chroma) (2024.12.0)\n",
      "Requirement already satisfied: click>=8.0.0 in c:\\users\\boseo\\appdata\\local\\programs\\python\\python310\\lib\\site-packages (from typer>=0.9.0->chromadb>=1.0.9->langchain-chroma) (8.1.8)\n",
      "Requirement already satisfied: shellingham>=1.3.0 in c:\\users\\boseo\\appdata\\local\\programs\\python\\python310\\lib\\site-packages (from typer>=0.9.0->chromadb>=1.0.9->langchain-chroma) (1.5.4)\n",
      "Requirement already satisfied: mypy-extensions>=0.3.0 in c:\\users\\boseo\\appdata\\local\\programs\\python\\python310\\lib\\site-packages (from typing-inspect<1,>=0.4.0->dataclasses-json<0.7,>=0.5.7->langchain_community) (1.1.0)\n",
      "Requirement already satisfied: websockets>=10.4 in c:\\users\\boseo\\appdata\\local\\programs\\python\\python310\\lib\\site-packages (from uvicorn[standard]>=0.18.3->chromadb>=1.0.9->langchain-chroma) (15.0.1)\n",
      "Requirement already satisfied: httptools>=0.6.3 in c:\\users\\boseo\\appdata\\local\\programs\\python\\python310\\lib\\site-packages (from uvicorn[standard]>=0.18.3->chromadb>=1.0.9->langchain-chroma) (0.6.4)\n",
      "Requirement already satisfied: watchfiles>=0.13 in c:\\users\\boseo\\appdata\\local\\programs\\python\\python310\\lib\\site-packages (from uvicorn[standard]>=0.18.3->chromadb>=1.0.9->langchain-chroma) (1.1.0)\n",
      "Requirement already satisfied: humanfriendly>=9.1 in c:\\users\\boseo\\appdata\\local\\programs\\python\\python310\\lib\\site-packages (from coloredlogs->onnxruntime>=1.14.1->chromadb>=1.0.9->langchain-chroma) (10.0)\n",
      "Requirement already satisfied: pyreadline3 in c:\\users\\boseo\\appdata\\local\\programs\\python\\python310\\lib\\site-packages (from humanfriendly>=9.1->coloredlogs->onnxruntime>=1.14.1->chromadb>=1.0.9->langchain-chroma) (3.5.4)\n",
      "Requirement already satisfied: mpmath<1.4,>=1.1.0 in c:\\users\\boseo\\appdata\\local\\programs\\python\\python310\\lib\\site-packages (from sympy->onnxruntime>=1.14.1->chromadb>=1.0.9->langchain-chroma) (1.3.0)\n",
      "Note: you may need to restart the kernel to use updated packages.\n"
     ]
    },
    {
     "name": "stderr",
     "output_type": "stream",
     "text": [
      "WARNING: You are using pip version 21.2.3; however, version 25.1.1 is available.\n",
      "You should consider upgrading via the 'c:\\Users\\boseo\\AppData\\Local\\Programs\\Python\\Python310\\python.exe -m pip install --upgrade pip' command.\n"
     ]
    }
   ],
   "source": [
    "%pip install python-dotenv langchain_openai langchain-chroma pypdf langchain langchain_community"
   ]
  },
  {
   "cell_type": "code",
   "execution_count": 18,
   "id": "82b843df",
   "metadata": {},
   "outputs": [],
   "source": [
    "# 라이브러리 불러오기\n",
    "import os\n",
    "from dotenv import load_dotenv\n",
    "\n",
    "# .env 파일에서 환경 변수 로드\n",
    "load_dotenv(\"/content/.env\")\n",
    "# 환경 변수에서 API 키 가져오기\n",
    "api_key = os.getenv(\"OPENAI_API_KEY\")"
   ]
  },
  {
   "cell_type": "code",
   "execution_count": 19,
   "id": "33c205fb",
   "metadata": {},
   "outputs": [],
   "source": [
    "# <2024 부동산 보고서 RAG 챗봇>\n",
    "# 라이브러리 불러오기\n",
    "from langchain_community.document_loaders import PyPDFLoader\n",
    "from langchain.text_splitter import RecursiveCharacterTextSplitter\n",
    "from langchain_openai import OpenAIEmbeddings, ChatOpenAI\n",
    "from langchain_chroma import Chroma\n",
    "from langchain_core.prompts import ChatPromptTemplate\n",
    "from langchain.schema.output_parser import StrOutputParser\n",
    "from langchain_core.runnables import RunnablePassthrough, RunnableWithMessageHistory\n",
    "from langchain.memory import ChatMessageHistory"
   ]
  },
  {
   "cell_type": "code",
   "execution_count": 20,
   "id": "cea25b8c",
   "metadata": {},
   "outputs": [
    {
     "name": "stdout",
     "output_type": "stream",
     "text": [
      "분할된 청크의 수: 135\n"
     ]
    }
   ],
   "source": [
    "# PDF 문서 로드 및 텍스트 분할\n",
    "loader = PyPDFLoader(r\"C:\\python-workspace\\02_RAG\\Data\\2024_KB_부동산_보고서_최종.pdf\")\n",
    "documents = loader.load()  # 문서 로드\n",
    "\n",
    "# 텍스트 분할 설정: 청크 크기와 겹침 설정\n",
    "text_splitter = RecursiveCharacterTextSplitter(chunk_size=1000, chunk_overlap=200)\n",
    "chunks = text_splitter.split_documents(documents)\n",
    "\n",
    "# 분할된 청크 수\n",
    "print('분할된 청크의 수:', len(chunks))"
   ]
  },
  {
   "cell_type": "code",
   "execution_count": 21,
   "id": "c518a8de",
   "metadata": {},
   "outputs": [
    {
     "name": "stdout",
     "output_type": "stream",
     "text": [
      "현재 경로: c:\\python-workspace\\02_RAG\n",
      "파일 존재 여부: True\n"
     ]
    }
   ],
   "source": [
    "# 파일 경로 확인\n",
    "import os\n",
    "\n",
    "file_path = r\"C:\\python-workspace\\02_RAG\\Data\\2024_KB_부동산_보고서_최종.pdf\"\n",
    "print(\"현재 경로:\", os.getcwd())\n",
    "print(\"파일 존재 여부:\", os.path.isfile(file_path))"
   ]
  },
  {
   "cell_type": "code",
   "execution_count": 22,
   "id": "4364a135",
   "metadata": {},
   "outputs": [
    {
     "name": "stderr",
     "output_type": "stream",
     "text": [
      "Failed to send telemetry event ClientStartEvent: capture() takes 1 positional argument but 3 were given\n",
      "Failed to send telemetry event ClientCreateCollectionEvent: capture() takes 1 positional argument but 3 were given\n"
     ]
    }
   ],
   "source": [
    "# 임베딩 생성 및 Chroma 데이터베이스 저장\n",
    "embedding_function = OpenAIEmbeddings()  # 임베딩 모델 설정\n",
    "\n",
    "persist_directory = \"/content/drive/MyDrive/langchain-tutorial/Ch02. RAG/directory/chroma\"\n",
    "\n",
    "vectorstore = Chroma.from_documents(\n",
    "    documents=chunks,\n",
    "    embedding=embedding_function,\n",
    "    persist_directory=persist_directory  # 데이터베이스 저장 경로\n",
    ")"
   ]
  },
  {
   "cell_type": "code",
   "execution_count": 23,
   "id": "859733ea",
   "metadata": {},
   "outputs": [
    {
     "name": "stdout",
     "output_type": "stream",
     "text": [
      "문서의 수: 270\n"
     ]
    }
   ],
   "source": [
    "print('문서의 수:', vectorstore._collection.count())"
   ]
  },
  {
   "cell_type": "code",
   "execution_count": 25,
   "id": "bf2e632f",
   "metadata": {},
   "outputs": [],
   "source": [
    "# 검색 및 재정렬\n",
    "retriever = vectorstore.as_retriever(search_kwargs={\"k\": 3})  # 관련 문서 상위 3개 검색 설정\n",
    "\n",
    "# 프롬프트 템플릿 설정: 사용자 질문에 대한 답변을 생성하기 위한 템플릿\n",
    "template = \"\"\"당신은 KB 부동산 보고서 전문가입니다. 다음 정보를 바탕으로 사용자의 질문에 답변해주세요.\n",
    "\n",
    "컨텍스트: {context}\n",
    "\"\"\"\n",
    "prompt = ChatPromptTemplate.from_messages(\n",
    "    [\n",
    "        (\"system\", template),\n",
    "        (\"placeholder\", \"{chat_history}\"),\n",
    "        (\"human\", \"{question}\")\n",
    "    ]\n",
    ")  # 템플릿 초기화\n",
    "model = ChatOpenAI(model_name=\"gpt-4o-mini\", temperature=0)  # AI 모델 설정"
   ]
  },
  {
   "cell_type": "code",
   "execution_count": 26,
   "id": "01140a83",
   "metadata": {},
   "outputs": [
    {
     "name": "stdout",
     "output_type": "stream",
     "text": [
      "System: 당신은 KB 부동산 보고서 전문가입니다. 다음 정보를 바탕으로 사용자의 질문에 답변해주세요.\n",
      "\n",
      "컨텍스트: 컨텍스트 예시\n",
      "\n",
      "Human: 대화 기록 예시1\n",
      "Human: 대화 기록 예시2\n",
      "Human: 질문 예시\n"
     ]
    }
   ],
   "source": [
    "\n",
    "print(prompt.format(context=\"컨텍스트 예시\", chat_history=[\"대화 기록 예시1\", \"대화 기록 예시2\"], question=\"질문 예시\"))"
   ]
  },
  {
   "cell_type": "code",
   "execution_count": null,
   "id": "dce8800d",
   "metadata": {},
   "outputs": [],
   "source": [
    "# 문서 형식 변환 함수 정의\n",
    "def format_docs(docs):\n",
    "    return \"\\n\\n\".join(doc.page_content for doc in docs)  # 문서 내용을 줄바꿈으로 연결"
   ]
  },
  {
   "cell_type": "code",
   "execution_count": 28,
   "id": "a8f30971",
   "metadata": {},
   "outputs": [],
   "source": [
    "# 체인 구성: 검색한 문서를 프롬프트에 연결하고 모델을 통해 응답 생성\n",
    "chain = (\n",
    "    RunnablePassthrough.assign(\n",
    "        context=lambda x: format_docs(retriever.invoke(x[\"question\"]))\n",
    "    )  # 검색된 문서를 연결하여 전달\n",
    "    | prompt\n",
    "    | model\n",
    "    | StrOutputParser()  # 결과를 문자열로 변환\n",
    ")"
   ]
  },
  {
   "cell_type": "code",
   "execution_count": 29,
   "id": "42c36e75",
   "metadata": {},
   "outputs": [],
   "source": [
    "# 대화 기록을 유지하기 위한 메모리 설정\n",
    "chat_history = ChatMessageHistory()\n",
    "chain_with_memory = RunnableWithMessageHistory(\n",
    "    chain,\n",
    "    lambda session_id: chat_history,  # 세션 ID별 대화 기록 생성\n",
    "    input_messages_key=\"question\",\n",
    "    history_messages_key=\"chat_history\",\n",
    ")"
   ]
  },
  {
   "cell_type": "code",
   "execution_count": null,
   "id": "eec34837",
   "metadata": {},
   "outputs": [],
   "source": [
    "# 챗봇 실행 함수 정의\n",
    "def chat_with_bot():\n",
    "    session_id = \"user_session\"\n",
    "    print(\"KB 부동산 보고서 챗봇입니다. 질문해 주세요. (종료하려면 'quit' 입력)\")\n",
    "    while True:\n",
    "        user_input = input(\"사용자: \")\n",
    "        if user_input.lower() == 'quit':\n",
    "            break\n",
    "\n",
    "        response = chain_with_memory.invoke(\n",
    "            {\"question\": user_input},\n",
    "            {\"configurable\": {\"session_id\": session_id}}\n",
    "        )\n",
    "\n",
    "        print(\"챗봇:\", response)\n",
    "\n",
    "# 메인 실행\n",
    "if __name__ == \"__main__\":\n",
    "    chat_with_bot()"
   ]
  }
 ],
 "metadata": {
  "kernelspec": {
   "display_name": "Python 3",
   "language": "python",
   "name": "python3"
  },
  "language_info": {
   "codemirror_mode": {
    "name": "ipython",
    "version": 3
   },
   "file_extension": ".py",
   "mimetype": "text/x-python",
   "name": "python",
   "nbconvert_exporter": "python",
   "pygments_lexer": "ipython3",
   "version": "3.10.0"
  }
 },
 "nbformat": 4,
 "nbformat_minor": 5
}
